{
  "cells": [
    {
      "cell_type": "markdown",
      "metadata": {
        "id": "view-in-github",
        "colab_type": "text"
      },
      "source": [
        "<a href=\"https://colab.research.google.com/github/choureymanas/Stack-Overflow-Question-Tagging-/blob/main/StackOverflow.ipynb\" target=\"_parent\"><img src=\"https://colab.research.google.com/assets/colab-badge.svg\" alt=\"Open In Colab\"/></a>"
      ]
    },
    {
      "cell_type": "markdown",
      "metadata": {
        "id": "Vl3eIEYFkgP7"
      },
      "source": [
        "# <font color = 'blue'> **NN with pre_trained Embeddings**\n"
      ]
    },
    {
      "cell_type": "markdown",
      "metadata": {
        "id": "xfyZf28zDRHM"
      },
      "source": [
        "<font color = 'green'>  **Objective:**\n",
        "- Learn to use pre-trained embeddings in a Neural Network</font>"
      ]
    },
    {
      "cell_type": "markdown",
      "metadata": {
        "id": "J2nAIo5uNxEr"
      },
      "source": [
        "# <font color = 'blue'> **Specify Project Folders**"
      ]
    },
    {
      "cell_type": "code",
      "execution_count": null,
      "metadata": {
        "execution": {
          "iopub.execute_input": "2022-10-24T06:35:00.477315Z",
          "iopub.status.busy": "2022-10-24T06:35:00.477121Z",
          "iopub.status.idle": "2022-10-24T06:35:00.501515Z",
          "shell.execute_reply": "2022-10-24T06:35:00.501036Z",
          "shell.execute_reply.started": "2022-10-24T06:35:00.477300Z"
        },
        "id": "zd6c5IGa_iUl",
        "tags": []
      },
      "outputs": [],
      "source": [
        "from pathlib import Path"
      ]
    },
    {
      "cell_type": "code",
      "execution_count": null,
      "metadata": {
        "execution": {
          "iopub.execute_input": "2022-10-24T06:35:00.851696Z",
          "iopub.status.busy": "2022-10-24T06:35:00.851458Z",
          "iopub.status.idle": "2022-10-24T06:35:00.877740Z",
          "shell.execute_reply": "2022-10-24T06:35:00.877168Z",
          "shell.execute_reply.started": "2022-10-24T06:35:00.851659Z"
        },
        "id": "Z0yKILuteTDE",
        "tags": []
      },
      "outputs": [],
      "source": [
        "custom_functions = '/content/drive/MyDrive/custom_functions'"
      ]
    },
    {
      "cell_type": "code",
      "source": [
        "from google.colab import drive\n",
        "drive.mount('/content/drive')"
      ],
      "metadata": {
        "colab": {
          "base_uri": "https://localhost:8080/"
        },
        "id": "BmNfyALF-ak9",
        "outputId": "3bc5bebb-19b1-41a4-a832-6b326cc9fd19"
      },
      "execution_count": null,
      "outputs": [
        {
          "output_type": "stream",
          "name": "stdout",
          "text": [
            "Mounted at /content/drive\n"
          ]
        }
      ]
    },
    {
      "cell_type": "code",
      "execution_count": null,
      "metadata": {
        "execution": {
          "iopub.execute_input": "2022-10-24T06:35:01.177121Z",
          "iopub.status.busy": "2022-10-24T06:35:01.176886Z",
          "iopub.status.idle": "2022-10-24T06:35:01.202137Z",
          "shell.execute_reply": "2022-10-24T06:35:01.201556Z",
          "shell.execute_reply.started": "2022-10-24T06:35:01.177106Z"
        },
        "id": "1i9tdWEkOha8",
        "tags": []
      },
      "outputs": [],
      "source": [
        "import sys\n",
        "\n",
        "sys.path.append(str(custom_functions))"
      ]
    },
    {
      "cell_type": "code",
      "execution_count": null,
      "metadata": {
        "colab": {
          "base_uri": "https://localhost:8080/"
        },
        "execution": {
          "iopub.execute_input": "2022-10-24T06:35:01.529413Z",
          "iopub.status.busy": "2022-10-24T06:35:01.529235Z",
          "iopub.status.idle": "2022-10-24T06:35:01.554874Z",
          "shell.execute_reply": "2022-10-24T06:35:01.554354Z",
          "shell.execute_reply.started": "2022-10-24T06:35:01.529399Z"
        },
        "id": "m8C6e11FOiEX",
        "outputId": "0c78f59d-1b5a-4736-8bf7-86ec8dce38e8",
        "tags": []
      },
      "outputs": [
        {
          "output_type": "execute_result",
          "data": {
            "text/plain": [
              "['/content',\n",
              " '/env/python',\n",
              " '/usr/lib/python37.zip',\n",
              " '/usr/lib/python3.7',\n",
              " '/usr/lib/python3.7/lib-dynload',\n",
              " '',\n",
              " '/usr/local/lib/python3.7/dist-packages',\n",
              " '/usr/lib/python3/dist-packages',\n",
              " '/usr/local/lib/python3.7/dist-packages/IPython/extensions',\n",
              " '/root/.ipython',\n",
              " '/content/drive/MyDrive/custom_functions']"
            ]
          },
          "metadata": {},
          "execution_count": 5
        }
      ],
      "source": [
        "sys.path"
      ]
    },
    {
      "cell_type": "markdown",
      "metadata": {
        "id": "5IPYN_5KW9Di"
      },
      "source": [
        "# <font color = 'blue'>  Import libraries"
      ]
    },
    {
      "cell_type": "code",
      "source": [
        "%load_ext autoreload\n",
        "%autoreload 2"
      ],
      "metadata": {
        "id": "yVD-gx74RLUe"
      },
      "execution_count": null,
      "outputs": []
    },
    {
      "cell_type": "code",
      "execution_count": null,
      "metadata": {
        "id": "wHBvJv4kiO0p",
        "colab": {
          "base_uri": "https://localhost:8080/"
        },
        "outputId": "50a2ae6b-23aa-428b-8e73-821e2409cd8f"
      },
      "outputs": [
        {
          "output_type": "stream",
          "name": "stdout",
          "text": [
            "\u001b[K     |████████████████████████████████| 24.1 MB 1.4 MB/s \n",
            "\u001b[?25h"
          ]
        }
      ],
      "source": [
        "if 'google.colab' in str(get_ipython()):\n",
        "  !pip install --upgrade gensim -qq"
      ]
    },
    {
      "cell_type": "code",
      "source": [
        "if 'google.colab' in str(get_ipython()):\n",
        "  !pip install wandb --upgrade"
      ],
      "metadata": {
        "id": "ZFlt-2cQYJhf",
        "colab": {
          "base_uri": "https://localhost:8080/"
        },
        "outputId": "87a81d8c-83b4-4ea0-ec3f-d0b920a2db21"
      },
      "execution_count": null,
      "outputs": [
        {
          "output_type": "stream",
          "name": "stdout",
          "text": [
            "Looking in indexes: https://pypi.org/simple, https://us-python.pkg.dev/colab-wheels/public/simple/\n",
            "Collecting wandb\n",
            "  Downloading wandb-0.13.5-py2.py3-none-any.whl (1.9 MB)\n",
            "\u001b[K     |████████████████████████████████| 1.9 MB 9.2 MB/s \n",
            "\u001b[?25hCollecting pathtools\n",
            "  Downloading pathtools-0.1.2.tar.gz (11 kB)\n",
            "Collecting docker-pycreds>=0.4.0\n",
            "  Downloading docker_pycreds-0.4.0-py2.py3-none-any.whl (9.0 kB)\n",
            "Requirement already satisfied: protobuf!=4.0.*,!=4.21.0,<5,>=3.12.0 in /usr/local/lib/python3.7/dist-packages (from wandb) (3.19.6)\n",
            "Requirement already satisfied: psutil>=5.0.0 in /usr/local/lib/python3.7/dist-packages (from wandb) (5.4.8)\n",
            "Requirement already satisfied: requests<3,>=2.0.0 in /usr/local/lib/python3.7/dist-packages (from wandb) (2.23.0)\n",
            "Requirement already satisfied: six>=1.13.0 in /usr/local/lib/python3.7/dist-packages (from wandb) (1.15.0)\n",
            "Requirement already satisfied: PyYAML in /usr/local/lib/python3.7/dist-packages (from wandb) (6.0)\n",
            "Collecting setproctitle\n",
            "  Downloading setproctitle-1.3.2-cp37-cp37m-manylinux_2_5_x86_64.manylinux1_x86_64.manylinux_2_17_x86_64.manylinux2014_x86_64.whl (30 kB)\n",
            "Collecting shortuuid>=0.5.0\n",
            "  Downloading shortuuid-1.0.11-py3-none-any.whl (10 kB)\n",
            "Requirement already satisfied: promise<3,>=2.0 in /usr/local/lib/python3.7/dist-packages (from wandb) (2.3)\n",
            "Requirement already satisfied: Click!=8.0.0,>=7.0 in /usr/local/lib/python3.7/dist-packages (from wandb) (7.1.2)\n",
            "Collecting GitPython>=1.0.0\n",
            "  Downloading GitPython-3.1.29-py3-none-any.whl (182 kB)\n",
            "\u001b[K     |████████████████████████████████| 182 kB 49.5 MB/s \n",
            "\u001b[?25hCollecting sentry-sdk>=1.0.0\n",
            "  Downloading sentry_sdk-1.11.1-py2.py3-none-any.whl (168 kB)\n",
            "\u001b[K     |████████████████████████████████| 168 kB 50.9 MB/s \n",
            "\u001b[?25hRequirement already satisfied: setuptools in /usr/local/lib/python3.7/dist-packages (from wandb) (57.4.0)\n",
            "Collecting gitdb<5,>=4.0.1\n",
            "  Downloading gitdb-4.0.10-py3-none-any.whl (62 kB)\n",
            "\u001b[K     |████████████████████████████████| 62 kB 1.2 MB/s \n",
            "\u001b[?25hRequirement already satisfied: typing-extensions>=3.7.4.3 in /usr/local/lib/python3.7/dist-packages (from GitPython>=1.0.0->wandb) (4.1.1)\n",
            "Collecting smmap<6,>=3.0.1\n",
            "  Downloading smmap-5.0.0-py3-none-any.whl (24 kB)\n",
            "Requirement already satisfied: chardet<4,>=3.0.2 in /usr/local/lib/python3.7/dist-packages (from requests<3,>=2.0.0->wandb) (3.0.4)\n",
            "Requirement already satisfied: certifi>=2017.4.17 in /usr/local/lib/python3.7/dist-packages (from requests<3,>=2.0.0->wandb) (2022.9.24)\n",
            "Requirement already satisfied: idna<3,>=2.5 in /usr/local/lib/python3.7/dist-packages (from requests<3,>=2.0.0->wandb) (2.10)\n",
            "Requirement already satisfied: urllib3!=1.25.0,!=1.25.1,<1.26,>=1.21.1 in /usr/local/lib/python3.7/dist-packages (from requests<3,>=2.0.0->wandb) (1.24.3)\n",
            "Collecting sentry-sdk>=1.0.0\n",
            "  Downloading sentry_sdk-1.11.0-py2.py3-none-any.whl (168 kB)\n",
            "\u001b[K     |████████████████████████████████| 168 kB 52.2 MB/s \n",
            "\u001b[?25h  Downloading sentry_sdk-1.10.1-py2.py3-none-any.whl (166 kB)\n",
            "\u001b[K     |████████████████████████████████| 166 kB 53.3 MB/s \n",
            "\u001b[?25h  Downloading sentry_sdk-1.10.0-py2.py3-none-any.whl (166 kB)\n",
            "\u001b[K     |████████████████████████████████| 166 kB 24.6 MB/s \n",
            "\u001b[?25h  Downloading sentry_sdk-1.9.10-py2.py3-none-any.whl (162 kB)\n",
            "\u001b[K     |████████████████████████████████| 162 kB 27.5 MB/s \n",
            "\u001b[?25h  Downloading sentry_sdk-1.9.9-py2.py3-none-any.whl (162 kB)\n",
            "\u001b[K     |████████████████████████████████| 162 kB 51.5 MB/s \n",
            "\u001b[?25h  Downloading sentry_sdk-1.9.8-py2.py3-none-any.whl (158 kB)\n",
            "\u001b[K     |████████████████████████████████| 158 kB 53.4 MB/s \n",
            "\u001b[?25h  Downloading sentry_sdk-1.9.7-py2.py3-none-any.whl (157 kB)\n",
            "\u001b[K     |████████████████████████████████| 157 kB 47.9 MB/s \n",
            "\u001b[?25h  Downloading sentry_sdk-1.9.6-py2.py3-none-any.whl (157 kB)\n",
            "\u001b[K     |████████████████████████████████| 157 kB 60.9 MB/s \n",
            "\u001b[?25h  Downloading sentry_sdk-1.9.5-py2.py3-none-any.whl (157 kB)\n",
            "\u001b[K     |████████████████████████████████| 157 kB 29.1 MB/s \n",
            "\u001b[?25h  Downloading sentry_sdk-1.9.4-py2.py3-none-any.whl (157 kB)\n",
            "\u001b[K     |████████████████████████████████| 157 kB 61.0 MB/s \n",
            "\u001b[?25h  Downloading sentry_sdk-1.9.3-py2.py3-none-any.whl (157 kB)\n",
            "\u001b[K     |████████████████████████████████| 157 kB 54.4 MB/s \n",
            "\u001b[?25h  Downloading sentry_sdk-1.9.2-py2.py3-none-any.whl (157 kB)\n",
            "\u001b[K     |████████████████████████████████| 157 kB 50.1 MB/s \n",
            "\u001b[?25h  Downloading sentry_sdk-1.9.1-py2.py3-none-any.whl (157 kB)\n",
            "\u001b[K     |████████████████████████████████| 157 kB 49.0 MB/s \n",
            "\u001b[?25h  Downloading sentry_sdk-1.9.0-py2.py3-none-any.whl (156 kB)\n",
            "\u001b[K     |████████████████████████████████| 156 kB 49.9 MB/s \n",
            "\u001b[?25hBuilding wheels for collected packages: pathtools\n",
            "  Building wheel for pathtools (setup.py) ... \u001b[?25l\u001b[?25hdone\n",
            "  Created wheel for pathtools: filename=pathtools-0.1.2-py3-none-any.whl size=8806 sha256=57a3d4f6e81c8b14bb62f57b71232943c587a6751bf023c5032221fa846f5fab\n",
            "  Stored in directory: /root/.cache/pip/wheels/3e/31/09/fa59cef12cdcfecc627b3d24273699f390e71828921b2cbba2\n",
            "Successfully built pathtools\n",
            "Installing collected packages: smmap, gitdb, shortuuid, setproctitle, sentry-sdk, pathtools, GitPython, docker-pycreds, wandb\n",
            "Successfully installed GitPython-3.1.29 docker-pycreds-0.4.0 gitdb-4.0.10 pathtools-0.1.2 sentry-sdk-1.9.0 setproctitle-1.3.2 shortuuid-1.0.11 smmap-5.0.0 wandb-0.13.5\n"
          ]
        }
      ]
    },
    {
      "cell_type": "code",
      "execution_count": null,
      "metadata": {
        "id": "E__2oxC7W9Dj"
      },
      "outputs": [],
      "source": [
        "# Import random function\n",
        "\n",
        "import torch\n",
        "import torch.nn as nn\n",
        "import torch.nn.functional as F\n",
        "from torchtext.vocab import  vocab\n",
        "from torch.optim.lr_scheduler import ReduceLROnPlateau, OneCycleLR, StepLR\n",
        "\n",
        "import wandb\n",
        "import spacy\n",
        "#import custom_preprocessor as cp\n",
        "\n",
        "import random\n",
        "from datetime import datetime\n",
        "import numpy as np\n",
        "from pathlib import Path\n",
        "import pandas as pd\n",
        "import joblib\n",
        "from collections import Counter\n",
        "\n",
        "from pathlib import Path\n",
        "\n",
        "from sklearn.model_selection import train_test_split\n",
        "\n",
        "import gensim\n",
        "from gensim.models import KeyedVectors\n",
        "\n",
        "from types import SimpleNamespace\n",
        "\n",
        "from sklearn.preprocessing import MultiLabelBinarizer as mlb"
      ]
    },
    {
      "cell_type": "code",
      "execution_count": null,
      "metadata": {
        "colab": {
          "base_uri": "https://localhost:8080/",
          "height": 35
        },
        "id": "T2U_UUYmiY6I",
        "outputId": "f9914f65-8fe4-4726-aa36-a4e6e1dee8f3"
      },
      "outputs": [
        {
          "output_type": "execute_result",
          "data": {
            "text/plain": [
              "'4.2.0'"
            ],
            "application/vnd.google.colaboratory.intrinsic+json": {
              "type": "string"
            }
          },
          "metadata": {},
          "execution_count": 10
        }
      ],
      "source": [
        "gensim.__version__"
      ]
    },
    {
      "cell_type": "code",
      "execution_count": null,
      "metadata": {
        "id": "06f2H4UiW9Dj"
      },
      "outputs": [],
      "source": [
        "data_folder = '/content/drive/MyDrive/HW 6/multilabel_hw.csv'\n",
        "save_model_folder = '/content/drive/MyDrive/HW 6 B/Models'"
      ]
    },
    {
      "cell_type": "markdown",
      "metadata": {
        "id": "v0CyZzobQoT_"
      },
      "source": [
        "We will be using W&B for visualization."
      ]
    },
    {
      "cell_type": "code",
      "execution_count": null,
      "metadata": {
        "colab": {
          "base_uri": "https://localhost:8080/",
          "height": 86
        },
        "id": "faY9UaHhQkb3",
        "outputId": "1a7451bb-c46a-43cb-cd57-09dd6dfca260"
      },
      "outputs": [
        {
          "output_type": "stream",
          "name": "stderr",
          "text": [
            "ERROR:wandb.jupyter:Failed to detect the name of this notebook, you can set it manually with the WANDB_NOTEBOOK_NAME environment variable to enable code saving.\n"
          ]
        },
        {
          "output_type": "display_data",
          "data": {
            "text/plain": [
              "<IPython.core.display.Javascript object>"
            ],
            "application/javascript": [
              "\n",
              "        window._wandbApiKey = new Promise((resolve, reject) => {\n",
              "            function loadScript(url) {\n",
              "            return new Promise(function(resolve, reject) {\n",
              "                let newScript = document.createElement(\"script\");\n",
              "                newScript.onerror = reject;\n",
              "                newScript.onload = resolve;\n",
              "                document.body.appendChild(newScript);\n",
              "                newScript.src = url;\n",
              "            });\n",
              "            }\n",
              "            loadScript(\"https://cdn.jsdelivr.net/npm/postmate/build/postmate.min.js\").then(() => {\n",
              "            const iframe = document.createElement('iframe')\n",
              "            iframe.style.cssText = \"width:0;height:0;border:none\"\n",
              "            document.body.appendChild(iframe)\n",
              "            const handshake = new Postmate({\n",
              "                container: iframe,\n",
              "                url: 'https://wandb.ai/authorize'\n",
              "            });\n",
              "            const timeout = setTimeout(() => reject(\"Couldn't auto authenticate\"), 5000)\n",
              "            handshake.then(function(child) {\n",
              "                child.on('authorize', data => {\n",
              "                    clearTimeout(timeout)\n",
              "                    resolve(data)\n",
              "                });\n",
              "            });\n",
              "            })\n",
              "        });\n",
              "    "
            ]
          },
          "metadata": {}
        },
        {
          "output_type": "stream",
          "name": "stderr",
          "text": [
            "\u001b[34m\u001b[1mwandb\u001b[0m: Appending key for api.wandb.ai to your netrc file: /root/.netrc\n"
          ]
        },
        {
          "output_type": "execute_result",
          "data": {
            "text/plain": [
              "True"
            ]
          },
          "metadata": {},
          "execution_count": 12
        }
      ],
      "source": [
        "# Login to W&B\n",
        "wandb.login()"
      ]
    },
    {
      "cell_type": "markdown",
      "metadata": {
        "id": "bTrbf15aROgj"
      },
      "source": [
        "## <font color = 'blue'> Train/Test/Valid Dataset"
      ]
    },
    {
      "cell_type": "code",
      "source": [
        "data = pd.read_csv(data_folder)\n",
        "data_sample = data.sample(frac =0.1)"
      ],
      "metadata": {
        "id": "jXoXlROo_Slp"
      },
      "execution_count": null,
      "outputs": []
    },
    {
      "cell_type": "code",
      "execution_count": null,
      "metadata": {
        "id": "5ggR-K3o6fhY"
      },
      "outputs": [],
      "source": [
        "# creating Pandas Dataframe\n",
        "# train_data = pd.read_csv(train_file, index_col=0)\n",
        "# test_data = pd.read_csv(test_file, index_col=0)\n",
        "train_data = data_sample"
      ]
    },
    {
      "cell_type": "code",
      "execution_count": null,
      "metadata": {
        "colab": {
          "base_uri": "https://localhost:8080/"
        },
        "id": "RXYsyw4r7OGb",
        "outputId": "12546527-9ac3-4632-d827-130aa67bc8b9"
      },
      "outputs": [
        {
          "output_type": "stream",
          "name": "stdout",
          "text": [
            "Shape of Training data set is : (4743, 7)\n"
          ]
        }
      ],
      "source": [
        "# print shape of the datasets\n",
        "print(f'Shape of Training data set is : {train_data.shape}')\n",
        "#print(f'Shape of Test data set is : {test_data.shape}')"
      ]
    },
    {
      "cell_type": "markdown",
      "source": [
        "# Target Variable"
      ],
      "metadata": {
        "id": "rzyg5qvQDgC0"
      }
    },
    {
      "cell_type": "code",
      "source": [
        "!pip install swifter"
      ],
      "metadata": {
        "colab": {
          "base_uri": "https://localhost:8080/",
          "height": 1000
        },
        "id": "L0kHV0WHDfK8",
        "outputId": "eaaf2a7e-a5f5-4fc1-8c0e-dc4d836b5205"
      },
      "execution_count": null,
      "outputs": [
        {
          "output_type": "stream",
          "name": "stdout",
          "text": [
            "Looking in indexes: https://pypi.org/simple, https://us-python.pkg.dev/colab-wheels/public/simple/\n",
            "Collecting swifter\n",
            "  Downloading swifter-1.3.4.tar.gz (830 kB)\n",
            "\u001b[K     |████████████████████████████████| 830 kB 7.1 MB/s \n",
            "\u001b[?25hRequirement already satisfied: pandas>=1.0.0 in /usr/local/lib/python3.7/dist-packages (from swifter) (1.3.5)\n",
            "Collecting psutil>=5.6.6\n",
            "  Downloading psutil-5.9.4-cp36-abi3-manylinux_2_12_x86_64.manylinux2010_x86_64.manylinux_2_17_x86_64.manylinux2014_x86_64.whl (280 kB)\n",
            "\u001b[K     |████████████████████████████████| 280 kB 53.9 MB/s \n",
            "\u001b[?25hRequirement already satisfied: dask[dataframe]>=2.10.0 in /usr/local/lib/python3.7/dist-packages (from swifter) (2022.2.0)\n",
            "Requirement already satisfied: tqdm>=4.33.0 in /usr/local/lib/python3.7/dist-packages (from swifter) (4.64.1)\n",
            "Requirement already satisfied: ipywidgets>=7.0.0 in /usr/local/lib/python3.7/dist-packages (from swifter) (7.7.1)\n",
            "Requirement already satisfied: cloudpickle>=0.2.2 in /usr/local/lib/python3.7/dist-packages (from swifter) (1.5.0)\n",
            "Requirement already satisfied: parso>0.4.0 in /usr/local/lib/python3.7/dist-packages (from swifter) (0.8.3)\n",
            "Requirement already satisfied: bleach>=3.1.1 in /usr/local/lib/python3.7/dist-packages (from swifter) (5.0.1)\n",
            "Requirement already satisfied: webencodings in /usr/local/lib/python3.7/dist-packages (from bleach>=3.1.1->swifter) (0.5.1)\n",
            "Requirement already satisfied: six>=1.9.0 in /usr/local/lib/python3.7/dist-packages (from bleach>=3.1.1->swifter) (1.15.0)\n",
            "Requirement already satisfied: fsspec>=0.6.0 in /usr/local/lib/python3.7/dist-packages (from dask[dataframe]>=2.10.0->swifter) (2022.11.0)\n",
            "Requirement already satisfied: toolz>=0.8.2 in /usr/local/lib/python3.7/dist-packages (from dask[dataframe]>=2.10.0->swifter) (0.12.0)\n",
            "Requirement already satisfied: pyyaml>=5.3.1 in /usr/local/lib/python3.7/dist-packages (from dask[dataframe]>=2.10.0->swifter) (6.0)\n",
            "Requirement already satisfied: partd>=0.3.10 in /usr/local/lib/python3.7/dist-packages (from dask[dataframe]>=2.10.0->swifter) (1.3.0)\n",
            "Requirement already satisfied: packaging>=20.0 in /usr/local/lib/python3.7/dist-packages (from dask[dataframe]>=2.10.0->swifter) (21.3)\n",
            "Requirement already satisfied: numpy>=1.18 in /usr/local/lib/python3.7/dist-packages (from dask[dataframe]>=2.10.0->swifter) (1.21.6)\n",
            "Requirement already satisfied: widgetsnbextension~=3.6.0 in /usr/local/lib/python3.7/dist-packages (from ipywidgets>=7.0.0->swifter) (3.6.1)\n",
            "Requirement already satisfied: jupyterlab-widgets>=1.0.0 in /usr/local/lib/python3.7/dist-packages (from ipywidgets>=7.0.0->swifter) (3.0.3)\n",
            "Requirement already satisfied: ipykernel>=4.5.1 in /usr/local/lib/python3.7/dist-packages (from ipywidgets>=7.0.0->swifter) (5.3.4)\n",
            "Requirement already satisfied: ipython>=4.0.0 in /usr/local/lib/python3.7/dist-packages (from ipywidgets>=7.0.0->swifter) (7.9.0)\n",
            "Requirement already satisfied: ipython-genutils~=0.2.0 in /usr/local/lib/python3.7/dist-packages (from ipywidgets>=7.0.0->swifter) (0.2.0)\n",
            "Requirement already satisfied: traitlets>=4.3.1 in /usr/local/lib/python3.7/dist-packages (from ipywidgets>=7.0.0->swifter) (5.1.1)\n",
            "Requirement already satisfied: tornado>=4.2 in /usr/local/lib/python3.7/dist-packages (from ipykernel>=4.5.1->ipywidgets>=7.0.0->swifter) (6.0.4)\n",
            "Requirement already satisfied: jupyter-client in /usr/local/lib/python3.7/dist-packages (from ipykernel>=4.5.1->ipywidgets>=7.0.0->swifter) (6.1.12)\n",
            "Requirement already satisfied: setuptools>=18.5 in /usr/local/lib/python3.7/dist-packages (from ipython>=4.0.0->ipywidgets>=7.0.0->swifter) (57.4.0)\n",
            "Requirement already satisfied: pexpect in /usr/local/lib/python3.7/dist-packages (from ipython>=4.0.0->ipywidgets>=7.0.0->swifter) (4.8.0)\n",
            "Requirement already satisfied: decorator in /usr/local/lib/python3.7/dist-packages (from ipython>=4.0.0->ipywidgets>=7.0.0->swifter) (4.4.2)\n",
            "Requirement already satisfied: prompt-toolkit<2.1.0,>=2.0.0 in /usr/local/lib/python3.7/dist-packages (from ipython>=4.0.0->ipywidgets>=7.0.0->swifter) (2.0.10)\n",
            "Requirement already satisfied: pickleshare in /usr/local/lib/python3.7/dist-packages (from ipython>=4.0.0->ipywidgets>=7.0.0->swifter) (0.7.5)\n",
            "Requirement already satisfied: backcall in /usr/local/lib/python3.7/dist-packages (from ipython>=4.0.0->ipywidgets>=7.0.0->swifter) (0.2.0)\n",
            "Requirement already satisfied: pygments in /usr/local/lib/python3.7/dist-packages (from ipython>=4.0.0->ipywidgets>=7.0.0->swifter) (2.6.1)\n",
            "Collecting jedi>=0.10\n",
            "  Downloading jedi-0.18.2-py2.py3-none-any.whl (1.6 MB)\n",
            "\u001b[K     |████████████████████████████████| 1.6 MB 46.2 MB/s \n",
            "\u001b[?25hRequirement already satisfied: pyparsing!=3.0.5,>=2.0.2 in /usr/local/lib/python3.7/dist-packages (from packaging>=20.0->dask[dataframe]>=2.10.0->swifter) (3.0.9)\n",
            "Requirement already satisfied: python-dateutil>=2.7.3 in /usr/local/lib/python3.7/dist-packages (from pandas>=1.0.0->swifter) (2.8.2)\n",
            "Requirement already satisfied: pytz>=2017.3 in /usr/local/lib/python3.7/dist-packages (from pandas>=1.0.0->swifter) (2022.6)\n",
            "Requirement already satisfied: locket in /usr/local/lib/python3.7/dist-packages (from partd>=0.3.10->dask[dataframe]>=2.10.0->swifter) (1.0.0)\n",
            "Requirement already satisfied: wcwidth in /usr/local/lib/python3.7/dist-packages (from prompt-toolkit<2.1.0,>=2.0.0->ipython>=4.0.0->ipywidgets>=7.0.0->swifter) (0.2.5)\n",
            "Requirement already satisfied: notebook>=4.4.1 in /usr/local/lib/python3.7/dist-packages (from widgetsnbextension~=3.6.0->ipywidgets>=7.0.0->swifter) (5.7.16)\n",
            "Requirement already satisfied: nbformat in /usr/local/lib/python3.7/dist-packages (from notebook>=4.4.1->widgetsnbextension~=3.6.0->ipywidgets>=7.0.0->swifter) (5.7.0)\n",
            "Requirement already satisfied: pyzmq>=17 in /usr/local/lib/python3.7/dist-packages (from notebook>=4.4.1->widgetsnbextension~=3.6.0->ipywidgets>=7.0.0->swifter) (23.2.1)\n",
            "Requirement already satisfied: prometheus-client in /usr/local/lib/python3.7/dist-packages (from notebook>=4.4.1->widgetsnbextension~=3.6.0->ipywidgets>=7.0.0->swifter) (0.15.0)\n",
            "Requirement already satisfied: jupyter-core>=4.4.0 in /usr/local/lib/python3.7/dist-packages (from notebook>=4.4.1->widgetsnbextension~=3.6.0->ipywidgets>=7.0.0->swifter) (4.11.2)\n",
            "Requirement already satisfied: terminado>=0.8.1 in /usr/local/lib/python3.7/dist-packages (from notebook>=4.4.1->widgetsnbextension~=3.6.0->ipywidgets>=7.0.0->swifter) (0.13.3)\n",
            "Requirement already satisfied: Send2Trash in /usr/local/lib/python3.7/dist-packages (from notebook>=4.4.1->widgetsnbextension~=3.6.0->ipywidgets>=7.0.0->swifter) (1.8.0)\n",
            "Requirement already satisfied: jinja2<=3.0.0 in /usr/local/lib/python3.7/dist-packages (from notebook>=4.4.1->widgetsnbextension~=3.6.0->ipywidgets>=7.0.0->swifter) (2.11.3)\n",
            "Requirement already satisfied: nbconvert<6.0 in /usr/local/lib/python3.7/dist-packages (from notebook>=4.4.1->widgetsnbextension~=3.6.0->ipywidgets>=7.0.0->swifter) (5.6.1)\n",
            "Requirement already satisfied: MarkupSafe>=0.23 in /usr/local/lib/python3.7/dist-packages (from jinja2<=3.0.0->notebook>=4.4.1->widgetsnbextension~=3.6.0->ipywidgets>=7.0.0->swifter) (2.0.1)\n",
            "Requirement already satisfied: mistune<2,>=0.8.1 in /usr/local/lib/python3.7/dist-packages (from nbconvert<6.0->notebook>=4.4.1->widgetsnbextension~=3.6.0->ipywidgets>=7.0.0->swifter) (0.8.4)\n",
            "Requirement already satisfied: pandocfilters>=1.4.1 in /usr/local/lib/python3.7/dist-packages (from nbconvert<6.0->notebook>=4.4.1->widgetsnbextension~=3.6.0->ipywidgets>=7.0.0->swifter) (1.5.0)\n",
            "Requirement already satisfied: defusedxml in /usr/local/lib/python3.7/dist-packages (from nbconvert<6.0->notebook>=4.4.1->widgetsnbextension~=3.6.0->ipywidgets>=7.0.0->swifter) (0.7.1)\n",
            "Requirement already satisfied: testpath in /usr/local/lib/python3.7/dist-packages (from nbconvert<6.0->notebook>=4.4.1->widgetsnbextension~=3.6.0->ipywidgets>=7.0.0->swifter) (0.6.0)\n",
            "Requirement already satisfied: entrypoints>=0.2.2 in /usr/local/lib/python3.7/dist-packages (from nbconvert<6.0->notebook>=4.4.1->widgetsnbextension~=3.6.0->ipywidgets>=7.0.0->swifter) (0.4)\n",
            "Requirement already satisfied: jsonschema>=2.6 in /usr/local/lib/python3.7/dist-packages (from nbformat->notebook>=4.4.1->widgetsnbextension~=3.6.0->ipywidgets>=7.0.0->swifter) (4.3.3)\n",
            "Requirement already satisfied: fastjsonschema in /usr/local/lib/python3.7/dist-packages (from nbformat->notebook>=4.4.1->widgetsnbextension~=3.6.0->ipywidgets>=7.0.0->swifter) (2.16.2)\n",
            "Requirement already satisfied: importlib-metadata>=3.6 in /usr/local/lib/python3.7/dist-packages (from nbformat->notebook>=4.4.1->widgetsnbextension~=3.6.0->ipywidgets>=7.0.0->swifter) (4.13.0)\n",
            "Requirement already satisfied: typing-extensions>=3.6.4 in /usr/local/lib/python3.7/dist-packages (from importlib-metadata>=3.6->nbformat->notebook>=4.4.1->widgetsnbextension~=3.6.0->ipywidgets>=7.0.0->swifter) (4.1.1)\n",
            "Requirement already satisfied: zipp>=0.5 in /usr/local/lib/python3.7/dist-packages (from importlib-metadata>=3.6->nbformat->notebook>=4.4.1->widgetsnbextension~=3.6.0->ipywidgets>=7.0.0->swifter) (3.10.0)\n",
            "Requirement already satisfied: pyrsistent!=0.17.0,!=0.17.1,!=0.17.2,>=0.14.0 in /usr/local/lib/python3.7/dist-packages (from jsonschema>=2.6->nbformat->notebook>=4.4.1->widgetsnbextension~=3.6.0->ipywidgets>=7.0.0->swifter) (0.19.2)\n",
            "Requirement already satisfied: attrs>=17.4.0 in /usr/local/lib/python3.7/dist-packages (from jsonschema>=2.6->nbformat->notebook>=4.4.1->widgetsnbextension~=3.6.0->ipywidgets>=7.0.0->swifter) (22.1.0)\n",
            "Requirement already satisfied: importlib-resources>=1.4.0 in /usr/local/lib/python3.7/dist-packages (from jsonschema>=2.6->nbformat->notebook>=4.4.1->widgetsnbextension~=3.6.0->ipywidgets>=7.0.0->swifter) (5.10.0)\n",
            "Requirement already satisfied: ptyprocess in /usr/local/lib/python3.7/dist-packages (from terminado>=0.8.1->notebook>=4.4.1->widgetsnbextension~=3.6.0->ipywidgets>=7.0.0->swifter) (0.7.0)\n",
            "Building wheels for collected packages: swifter\n",
            "  Building wheel for swifter (setup.py) ... \u001b[?25l\u001b[?25hdone\n",
            "  Created wheel for swifter: filename=swifter-1.3.4-py3-none-any.whl size=16321 sha256=84637183df24c93aa4a4e3ae3fdf6ac642cabaeab146fa136fdc570bc0bad6ee\n",
            "  Stored in directory: /root/.cache/pip/wheels/29/a7/0e/3a8f17ac69d759e1e93647114bc9bdc95957e5b0cbfd405205\n",
            "Successfully built swifter\n",
            "Installing collected packages: jedi, psutil, swifter\n",
            "  Attempting uninstall: psutil\n",
            "    Found existing installation: psutil 5.4.8\n",
            "    Uninstalling psutil-5.4.8:\n",
            "      Successfully uninstalled psutil-5.4.8\n",
            "Successfully installed jedi-0.18.2 psutil-5.9.4 swifter-1.3.4\n"
          ]
        },
        {
          "output_type": "display_data",
          "data": {
            "application/vnd.colab-display-data+json": {
              "pip_warning": {
                "packages": [
                  "psutil"
                ]
              }
            }
          },
          "metadata": {}
        }
      ]
    },
    {
      "cell_type": "code",
      "source": [
        "import swifter\n",
        "import ast \n",
        "train_data['Tag_Number_list'] = train_data['Tag_Number'].apply(lambda x : ast.literal_eval(x))"
      ],
      "metadata": {
        "colab": {
          "base_uri": "https://localhost:8080/"
        },
        "id": "g4hnM3FrDr1A",
        "outputId": "5197ddce-926a-4575-8c5b-57fa6980f064"
      },
      "execution_count": null,
      "outputs": [
        {
          "output_type": "stream",
          "name": "stderr",
          "text": [
            "[autoreload of psutil failed: Traceback (most recent call last):\n",
            "  File \"/usr/local/lib/python3.7/dist-packages/IPython/extensions/autoreload.py\", line 245, in check\n",
            "    superreload(m, reload, self.old_objects)\n",
            "  File \"/usr/local/lib/python3.7/dist-packages/IPython/extensions/autoreload.py\", line 394, in superreload\n",
            "    module = reload(module)\n",
            "  File \"/usr/lib/python3.7/imp.py\", line 314, in reload\n",
            "    return importlib.reload(module)\n",
            "  File \"/usr/lib/python3.7/importlib/__init__.py\", line 169, in reload\n",
            "    _bootstrap._exec(spec, module)\n",
            "  File \"<frozen importlib._bootstrap>\", line 630, in _exec\n",
            "  File \"<frozen importlib._bootstrap_external>\", line 728, in exec_module\n",
            "  File \"<frozen importlib._bootstrap>\", line 219, in _call_with_frames_removed\n",
            "  File \"/usr/local/lib/python3.7/dist-packages/psutil/__init__.py\", line 83, in <module>\n",
            "    from ._common import AccessDenied\n",
            "ImportError: cannot import name 'AccessDenied' from 'psutil._common' (/usr/local/lib/python3.7/dist-packages/psutil/_common.py)\n",
            "]\n",
            "[autoreload of psutil._pslinux failed: Traceback (most recent call last):\n",
            "  File \"/usr/local/lib/python3.7/dist-packages/IPython/extensions/autoreload.py\", line 245, in check\n",
            "    superreload(m, reload, self.old_objects)\n",
            "  File \"/usr/local/lib/python3.7/dist-packages/IPython/extensions/autoreload.py\", line 394, in superreload\n",
            "    module = reload(module)\n",
            "  File \"/usr/lib/python3.7/imp.py\", line 314, in reload\n",
            "    return importlib.reload(module)\n",
            "  File \"/usr/lib/python3.7/importlib/__init__.py\", line 169, in reload\n",
            "    _bootstrap._exec(spec, module)\n",
            "  File \"<frozen importlib._bootstrap>\", line 630, in _exec\n",
            "  File \"<frozen importlib._bootstrap_external>\", line 728, in exec_module\n",
            "  File \"<frozen importlib._bootstrap>\", line 219, in _call_with_frames_removed\n",
            "  File \"/usr/local/lib/python3.7/dist-packages/psutil/_pslinux.py\", line 87, in <module>\n",
            "    PAGESIZE = cext_posix.getpagesize()\n",
            "AttributeError: module 'psutil_posix' has no attribute 'getpagesize'\n",
            "]\n"
          ]
        }
      ]
    },
    {
      "cell_type": "code",
      "source": [
        "y_final = train_data['Tag_Number_list'].values\n",
        "y_one_hot = mlb().fit_transform(y_final)"
      ],
      "metadata": {
        "id": "Bz0TlEOGEohY"
      },
      "execution_count": null,
      "outputs": []
    },
    {
      "cell_type": "code",
      "execution_count": null,
      "metadata": {
        "colab": {
          "base_uri": "https://localhost:8080/",
          "height": 354
        },
        "id": "ETuO1KJp7R8W",
        "outputId": "56ec29bd-46a9-4a7a-99dd-efe10aeae461"
      },
      "outputs": [
        {
          "output_type": "execute_result",
          "data": {
            "text/plain": [
              "       Unnamed: 0  Unnamed: 0.1       Id  \\\n",
              "10923       49242       5008439  5008440   \n",
              "13341       38107       3878300  3878301   \n",
              "9938         6248        633054   633055   \n",
              "40594        7225        728347   728348   \n",
              "11577       56212       5719613  5719614   \n",
              "\n",
              "                                                   Title  \\\n",
              "10923   Creating visual designs for android applications   \n",
              "13341  How to stop the finish() method after press ba...   \n",
              "9938   How can I prevent button-mashing when using an...   \n",
              "40594  Store the text entered by the user as it is in...   \n",
              "11577      Is there a man signature generator in jquery?   \n",
              "\n",
              "                                                    Body               Tags  \\\n",
              "10923  <p>I've been on and off with Android developme...       java android   \n",
              "13341  <p>Can I check some condition in finish()</p>\\...       java android   \n",
              "9938   <p>I'm using buttons to submit data via Ajax. ...  javascript jquery   \n",
              "40594  <p>How to store the text entered by the user a...         c# asp.net   \n",
              "11577  <p>Is there a plugin on jquery which you can c...         php jquery   \n",
              "\n",
              "      Tag_Number Tag_Number_list  \n",
              "10923     [1, 4]          [1, 4]  \n",
              "13341     [1, 4]          [1, 4]  \n",
              "9938      [3, 5]          [3, 5]  \n",
              "40594     [0, 9]          [0, 9]  \n",
              "11577     [2, 5]          [2, 5]  "
            ],
            "text/html": [
              "\n",
              "  <div id=\"df-e640cb2e-7ca6-4c5c-873b-429d9481da77\">\n",
              "    <div class=\"colab-df-container\">\n",
              "      <div>\n",
              "<style scoped>\n",
              "    .dataframe tbody tr th:only-of-type {\n",
              "        vertical-align: middle;\n",
              "    }\n",
              "\n",
              "    .dataframe tbody tr th {\n",
              "        vertical-align: top;\n",
              "    }\n",
              "\n",
              "    .dataframe thead th {\n",
              "        text-align: right;\n",
              "    }\n",
              "</style>\n",
              "<table border=\"1\" class=\"dataframe\">\n",
              "  <thead>\n",
              "    <tr style=\"text-align: right;\">\n",
              "      <th></th>\n",
              "      <th>Unnamed: 0</th>\n",
              "      <th>Unnamed: 0.1</th>\n",
              "      <th>Id</th>\n",
              "      <th>Title</th>\n",
              "      <th>Body</th>\n",
              "      <th>Tags</th>\n",
              "      <th>Tag_Number</th>\n",
              "      <th>Tag_Number_list</th>\n",
              "    </tr>\n",
              "  </thead>\n",
              "  <tbody>\n",
              "    <tr>\n",
              "      <th>10923</th>\n",
              "      <td>49242</td>\n",
              "      <td>5008439</td>\n",
              "      <td>5008440</td>\n",
              "      <td>Creating visual designs for android applications</td>\n",
              "      <td>&lt;p&gt;I've been on and off with Android developme...</td>\n",
              "      <td>java android</td>\n",
              "      <td>[1, 4]</td>\n",
              "      <td>[1, 4]</td>\n",
              "    </tr>\n",
              "    <tr>\n",
              "      <th>13341</th>\n",
              "      <td>38107</td>\n",
              "      <td>3878300</td>\n",
              "      <td>3878301</td>\n",
              "      <td>How to stop the finish() method after press ba...</td>\n",
              "      <td>&lt;p&gt;Can I check some condition in finish()&lt;/p&gt;\\...</td>\n",
              "      <td>java android</td>\n",
              "      <td>[1, 4]</td>\n",
              "      <td>[1, 4]</td>\n",
              "    </tr>\n",
              "    <tr>\n",
              "      <th>9938</th>\n",
              "      <td>6248</td>\n",
              "      <td>633054</td>\n",
              "      <td>633055</td>\n",
              "      <td>How can I prevent button-mashing when using an...</td>\n",
              "      <td>&lt;p&gt;I'm using buttons to submit data via Ajax. ...</td>\n",
              "      <td>javascript jquery</td>\n",
              "      <td>[3, 5]</td>\n",
              "      <td>[3, 5]</td>\n",
              "    </tr>\n",
              "    <tr>\n",
              "      <th>40594</th>\n",
              "      <td>7225</td>\n",
              "      <td>728347</td>\n",
              "      <td>728348</td>\n",
              "      <td>Store the text entered by the user as it is in...</td>\n",
              "      <td>&lt;p&gt;How to store the text entered by the user a...</td>\n",
              "      <td>c# asp.net</td>\n",
              "      <td>[0, 9]</td>\n",
              "      <td>[0, 9]</td>\n",
              "    </tr>\n",
              "    <tr>\n",
              "      <th>11577</th>\n",
              "      <td>56212</td>\n",
              "      <td>5719613</td>\n",
              "      <td>5719614</td>\n",
              "      <td>Is there a man signature generator in jquery?</td>\n",
              "      <td>&lt;p&gt;Is there a plugin on jquery which you can c...</td>\n",
              "      <td>php jquery</td>\n",
              "      <td>[2, 5]</td>\n",
              "      <td>[2, 5]</td>\n",
              "    </tr>\n",
              "  </tbody>\n",
              "</table>\n",
              "</div>\n",
              "      <button class=\"colab-df-convert\" onclick=\"convertToInteractive('df-e640cb2e-7ca6-4c5c-873b-429d9481da77')\"\n",
              "              title=\"Convert this dataframe to an interactive table.\"\n",
              "              style=\"display:none;\">\n",
              "        \n",
              "  <svg xmlns=\"http://www.w3.org/2000/svg\" height=\"24px\"viewBox=\"0 0 24 24\"\n",
              "       width=\"24px\">\n",
              "    <path d=\"M0 0h24v24H0V0z\" fill=\"none\"/>\n",
              "    <path d=\"M18.56 5.44l.94 2.06.94-2.06 2.06-.94-2.06-.94-.94-2.06-.94 2.06-2.06.94zm-11 1L8.5 8.5l.94-2.06 2.06-.94-2.06-.94L8.5 2.5l-.94 2.06-2.06.94zm10 10l.94 2.06.94-2.06 2.06-.94-2.06-.94-.94-2.06-.94 2.06-2.06.94z\"/><path d=\"M17.41 7.96l-1.37-1.37c-.4-.4-.92-.59-1.43-.59-.52 0-1.04.2-1.43.59L10.3 9.45l-7.72 7.72c-.78.78-.78 2.05 0 2.83L4 21.41c.39.39.9.59 1.41.59.51 0 1.02-.2 1.41-.59l7.78-7.78 2.81-2.81c.8-.78.8-2.07 0-2.86zM5.41 20L4 18.59l7.72-7.72 1.47 1.35L5.41 20z\"/>\n",
              "  </svg>\n",
              "      </button>\n",
              "      \n",
              "  <style>\n",
              "    .colab-df-container {\n",
              "      display:flex;\n",
              "      flex-wrap:wrap;\n",
              "      gap: 12px;\n",
              "    }\n",
              "\n",
              "    .colab-df-convert {\n",
              "      background-color: #E8F0FE;\n",
              "      border: none;\n",
              "      border-radius: 50%;\n",
              "      cursor: pointer;\n",
              "      display: none;\n",
              "      fill: #1967D2;\n",
              "      height: 32px;\n",
              "      padding: 0 0 0 0;\n",
              "      width: 32px;\n",
              "    }\n",
              "\n",
              "    .colab-df-convert:hover {\n",
              "      background-color: #E2EBFA;\n",
              "      box-shadow: 0px 1px 2px rgba(60, 64, 67, 0.3), 0px 1px 3px 1px rgba(60, 64, 67, 0.15);\n",
              "      fill: #174EA6;\n",
              "    }\n",
              "\n",
              "    [theme=dark] .colab-df-convert {\n",
              "      background-color: #3B4455;\n",
              "      fill: #D2E3FC;\n",
              "    }\n",
              "\n",
              "    [theme=dark] .colab-df-convert:hover {\n",
              "      background-color: #434B5C;\n",
              "      box-shadow: 0px 1px 3px 1px rgba(0, 0, 0, 0.15);\n",
              "      filter: drop-shadow(0px 1px 2px rgba(0, 0, 0, 0.3));\n",
              "      fill: #FFFFFF;\n",
              "    }\n",
              "  </style>\n",
              "\n",
              "      <script>\n",
              "        const buttonEl =\n",
              "          document.querySelector('#df-e640cb2e-7ca6-4c5c-873b-429d9481da77 button.colab-df-convert');\n",
              "        buttonEl.style.display =\n",
              "          google.colab.kernel.accessAllowed ? 'block' : 'none';\n",
              "\n",
              "        async function convertToInteractive(key) {\n",
              "          const element = document.querySelector('#df-e640cb2e-7ca6-4c5c-873b-429d9481da77');\n",
              "          const dataTable =\n",
              "            await google.colab.kernel.invokeFunction('convertToInteractive',\n",
              "                                                     [key], {});\n",
              "          if (!dataTable) return;\n",
              "\n",
              "          const docLinkHtml = 'Like what you see? Visit the ' +\n",
              "            '<a target=\"_blank\" href=https://colab.research.google.com/notebooks/data_table.ipynb>data table notebook</a>'\n",
              "            + ' to learn more about interactive tables.';\n",
              "          element.innerHTML = '';\n",
              "          dataTable['output_type'] = 'display_data';\n",
              "          await google.colab.output.renderOutput(dataTable, element);\n",
              "          const docLink = document.createElement('div');\n",
              "          docLink.innerHTML = docLinkHtml;\n",
              "          element.appendChild(docLink);\n",
              "        }\n",
              "      </script>\n",
              "    </div>\n",
              "  </div>\n",
              "  "
            ]
          },
          "metadata": {},
          "execution_count": 19
        }
      ],
      "source": [
        "train_data.head()"
      ]
    },
    {
      "cell_type": "code",
      "execution_count": null,
      "metadata": {
        "id": "9RFTtWvX7Vwr"
      },
      "outputs": [],
      "source": [
        "X = train_data['Body'].values"
      ]
    },
    {
      "cell_type": "code",
      "execution_count": null,
      "metadata": {
        "id": "a8sZ605P7mON"
      },
      "outputs": [],
      "source": [
        "X_train, X_valid, y_train, y_valid = train_test_split(X, y_one_hot, test_size = 0.20, random_state=42)"
      ]
    },
    {
      "cell_type": "code",
      "execution_count": null,
      "metadata": {
        "id": "AMapwMp88dBO"
      },
      "outputs": [],
      "source": [
        "X_test , y_test = train_data['Body'].values, y_one_hot"
      ]
    },
    {
      "cell_type": "markdown",
      "metadata": {
        "id": "7vxiBPx4qE9Q"
      },
      "source": [
        "## <font color = 'blue'>  Data PreProcessing"
      ]
    },
    {
      "cell_type": "markdown",
      "metadata": {
        "id": "ZE1vgu64GR_-"
      },
      "source": [
        "<font color = 'green'> We will use the preprocessed files we created earlier."
      ]
    },
    {
      "cell_type": "code",
      "execution_count": null,
      "metadata": {
        "execution": {
          "iopub.execute_input": "2022-10-02T10:39:45.327967Z",
          "iopub.status.busy": "2022-10-02T10:39:45.327760Z",
          "iopub.status.idle": "2022-10-02T10:42:41.127740Z",
          "shell.execute_reply": "2022-10-02T10:42:41.127192Z",
          "shell.execute_reply.started": "2022-10-02T10:39:45.327953Z"
        },
        "id": "0LWYVIucTkLi"
      },
      "outputs": [],
      "source": [
        "import custom_preprocessor as cp\n",
        "#X_train_cleaned = cp.SpacyPreprocessor(model = 'en_core_web_sm', batch_size=1000).transform(X_train)"
      ]
    },
    {
      "cell_type": "code",
      "execution_count": null,
      "metadata": {
        "execution": {
          "iopub.execute_input": "2022-10-02T10:42:41.128992Z",
          "iopub.status.busy": "2022-10-02T10:42:41.128816Z",
          "iopub.status.idle": "2022-10-02T10:46:58.696982Z",
          "shell.execute_reply": "2022-10-02T10:46:58.696446Z",
          "shell.execute_reply.started": "2022-10-02T10:42:41.128979Z"
        },
        "id": "mLph5EViTkLi"
      },
      "outputs": [],
      "source": [
        "#X_valid_cleaned = cp.SpacyPreprocessor(model = 'en_core_web_sm', batch_size=1000).transform(X_valid)\n",
        "#X_test_cleaned = cp.SpacyPreprocessor(model = 'en_core_web_sm', batch_size=1000).transform(X_test)"
      ]
    },
    {
      "cell_type": "code",
      "execution_count": null,
      "metadata": {
        "execution": {
          "iopub.execute_input": "2022-10-02T10:46:58.697995Z",
          "iopub.status.busy": "2022-10-02T10:46:58.697823Z",
          "iopub.status.idle": "2022-10-02T10:46:58.720091Z",
          "shell.execute_reply": "2022-10-02T10:46:58.719642Z",
          "shell.execute_reply.started": "2022-10-02T10:46:58.697982Z"
        },
        "id": "GE1EtOUVTkLi"
      },
      "outputs": [],
      "source": [
        "# X_train_cleaned_file = data_folder / 'x_train_cleaned_bag_of_words.pkl'\n",
        "# X_valid_cleaned_file = data_folder / 'x_valid_cleaned_bag_of_words.pkl'\n",
        "# X_test_cleaned_file = data_folder / 'x_test_cleaned_bag_of_words.pkl'\n",
        "\n",
        "X_train_cleaned_file = '/content/drive/MyDrive/HW 6 B/x_train_cleaned_bag_of_words.pkl'\n",
        "X_valid_cleaned_file =  '/content/drive/MyDrive/HW 6 B/x_valid_cleaned_bag_of_words.pkl'\n",
        "X_test_cleaned_file =  '/content/drive/MyDrive/HW 6 B/x_test_cleaned_bag_of_words.pkl'"
      ]
    },
    {
      "cell_type": "code",
      "execution_count": null,
      "metadata": {
        "execution": {
          "iopub.execute_input": "2022-10-02T10:46:58.721114Z",
          "iopub.status.busy": "2022-10-02T10:46:58.720953Z",
          "iopub.status.idle": "2022-10-02T10:46:58.900841Z",
          "shell.execute_reply": "2022-10-02T10:46:58.900393Z",
          "shell.execute_reply.started": "2022-10-02T10:46:58.721101Z"
        },
        "id": "2iXADQERTkLi"
      },
      "outputs": [],
      "source": [
        "# joblib.dump(X_train_cleaned, X_train_cleaned_file)\n",
        "# joblib.dump(X_valid_cleaned, X_valid_cleaned_file)\n",
        "# joblib.dump(X_test_cleaned, X_test_cleaned_file)"
      ]
    },
    {
      "cell_type": "code",
      "execution_count": null,
      "metadata": {
        "execution": {
          "iopub.execute_input": "2022-10-02T10:46:58.901490Z",
          "iopub.status.busy": "2022-10-02T10:46:58.901353Z",
          "iopub.status.idle": "2022-10-02T10:46:59.008992Z",
          "shell.execute_reply": "2022-10-02T10:46:59.008412Z",
          "shell.execute_reply.started": "2022-10-02T10:46:58.901477Z"
        },
        "id": "qoYkr802TkLi"
      },
      "outputs": [],
      "source": [
        "X_train_cleaned = joblib.load(X_train_cleaned_file)\n",
        "X_valid_cleaned = joblib.load(X_valid_cleaned_file)\n",
        "X_test_cleaned = joblib.load(X_test_cleaned_file)"
      ]
    },
    {
      "cell_type": "code",
      "execution_count": null,
      "metadata": {
        "colab": {
          "base_uri": "https://localhost:8080/"
        },
        "id": "xx0-0QP48kCH",
        "outputId": "179cc0d9-982c-4fc9-bfae-5ebf8b2b1c8d"
      },
      "outputs": [
        {
          "output_type": "stream",
          "name": "stdout",
          "text": [
            "<class 'list'>\n",
            "<class 'numpy.ndarray'>\n"
          ]
        }
      ],
      "source": [
        "print(type(X_train_cleaned))\n",
        "print(type(y_train))"
      ]
    },
    {
      "cell_type": "markdown",
      "metadata": {
        "id": "rsYaM3_ftTgi"
      },
      "source": [
        "## <font color = 'blue'> Custom Dataset Class"
      ]
    },
    {
      "cell_type": "code",
      "execution_count": null,
      "metadata": {
        "id": "kFmE7lcjCuSM"
      },
      "outputs": [],
      "source": [
        "class CustomDataset(torch.utils.data.Dataset):\n",
        "    \"\"\"IMDB dataset.\"\"\"\n",
        "\n",
        "    def __init__(self, X, y):\n",
        "        self.X = np.array(X)\n",
        "        self.y = y\n",
        "\n",
        "    def __len__(self):\n",
        "        return len(self.X)\n",
        "\n",
        "    def __getitem__(self, idx):\n",
        "        if torch.is_tensor(idx):\n",
        "            idx = idx.tolist()\n",
        "\n",
        "        text = self.X[idx]\n",
        "        labels = self.y[idx]\n",
        "        sample = (text, labels)\n",
        "        \n",
        "        return sample"
      ]
    },
    {
      "cell_type": "code",
      "execution_count": null,
      "metadata": {
        "id": "bDesWA-Ssmk_"
      },
      "outputs": [],
      "source": [
        "trainset = CustomDataset(X_train_cleaned,y_train)\n",
        "validset = CustomDataset(X_valid_cleaned,y_valid)\n",
        "testset = CustomDataset(X_test_cleaned,y_test)"
      ]
    },
    {
      "cell_type": "code",
      "execution_count": null,
      "metadata": {
        "colab": {
          "base_uri": "https://localhost:8080/"
        },
        "id": "T-lZrEottGtH",
        "outputId": "1adfd04d-b989-4289-d164-21e68f6f043c"
      },
      "outputs": [
        {
          "output_type": "execute_result",
          "data": {
            "text/plain": [
              "(array(['array variable value textfields var datum = address city country   command   transaction.executesql(\"insert customer(name address city country values data[0 data[1 data[2 data[3   work fine real database 50 field need add example add question mark data[n error prone think create loop instead array var datum = address city country   loop var column = var questionmark = var = 0 < i++      column + = data + +      questionmark + =   column = columns.slice(0 -2 questionmark = questionmarks.slice(0 -2 column = + column +   use questionmark command like transaction.executesql(\"insert customer(name address city country values + questionmark + data[0 data[1 data[2 data[3   try use column work transaction.executesql(\"insert customer(name address city country values + questionmark + column   try transaction.executesql(\"insert customer(name address city country values + questionmark + + column   document.write(column look exactly   data[0 data[1 data[2 data[3   wrong column thank advance guess questionmark work becasue string data[n value'],\n",
              "       dtype='<U28027'), array([[0, 0, 0, 1, 0, 1, 0, 0, 0, 0]]))"
            ]
          },
          "metadata": {},
          "execution_count": 31
        }
      ],
      "source": [
        "trainset.__getitem__([11])"
      ]
    },
    {
      "cell_type": "markdown",
      "metadata": {
        "id": "XoEVe7eGtY7U"
      },
      "source": [
        "## <font color = 'blue'> Create Vocab"
      ]
    },
    {
      "cell_type": "code",
      "execution_count": null,
      "metadata": {
        "id": "LRLHO-M1to6q"
      },
      "outputs": [],
      "source": [
        "def create_vocab(dataset, min_freq):\n",
        "  counter = Counter()\n",
        "  for (text, _) in dataset:\n",
        "    counter.update(str(text).split())\n",
        "  my_vocab = vocab(counter, min_freq=min_freq)\n",
        "  my_vocab.insert_token('<unk>', 0)\n",
        "  my_vocab.set_default_index(0)\n",
        "  return my_vocab"
      ]
    },
    {
      "cell_type": "markdown",
      "metadata": {
        "id": "TY5oKhQlJPQL"
      },
      "source": [
        "<font color = 'green'> vocab should always be created based on trainset"
      ]
    },
    {
      "cell_type": "code",
      "execution_count": null,
      "metadata": {
        "id": "wNUi_aNctkAo"
      },
      "outputs": [],
      "source": [
        "stack_vocab = create_vocab(trainset, min_freq = 2)"
      ]
    },
    {
      "cell_type": "code",
      "execution_count": null,
      "metadata": {
        "colab": {
          "base_uri": "https://localhost:8080/"
        },
        "id": "ask8H1QJJMZK",
        "outputId": "96743dd2-f221-4c3c-cd79-2c6c15bae89d"
      },
      "outputs": [
        {
          "output_type": "execute_result",
          "data": {
            "text/plain": [
              "14834"
            ]
          },
          "metadata": {},
          "execution_count": 34
        }
      ],
      "source": [
        "len(stack_vocab)"
      ]
    },
    {
      "cell_type": "code",
      "execution_count": null,
      "metadata": {
        "colab": {
          "base_uri": "https://localhost:8080/"
        },
        "collapsed": true,
        "id": "eyaeFqCsuRTQ",
        "jupyter": {
          "outputs_hidden": true
        },
        "outputId": "d0bee6d0-aaab-44dc-8d2c-c0780d231a21",
        "tags": []
      },
      "outputs": [
        {
          "output_type": "execute_result",
          "data": {
            "text/plain": [
              "['<unk>', 'comic_strip', 'website', 'like', 'track']"
            ]
          },
          "metadata": {},
          "execution_count": 35
        }
      ],
      "source": [
        "stack_vocab.get_itos()[0:5]"
      ]
    },
    {
      "cell_type": "code",
      "execution_count": null,
      "metadata": {
        "colab": {
          "base_uri": "https://localhost:8080/"
        },
        "id": "WDMu8-JOujxY",
        "outputId": "48e449e7-27ee-482b-d5d7-4ac77c76b314"
      },
      "outputs": [
        {
          "output_type": "execute_result",
          "data": {
            "text/plain": [
              "0"
            ]
          },
          "metadata": {},
          "execution_count": 36
        }
      ],
      "source": [
        "stack_vocab['abracadabra']"
      ]
    },
    {
      "cell_type": "markdown",
      "metadata": {
        "id": "ojvSMWR5u-LU"
      },
      "source": [
        "## <font color = 'blue'> Collate_fn for Data Loaders"
      ]
    },
    {
      "cell_type": "code",
      "execution_count": null,
      "metadata": {
        "id": "cdBKJlVmvB-9"
      },
      "outputs": [],
      "source": [
        "# Creating a lambda function objects that will be used to get the indices of words from vocab\n",
        "text_pipeline = lambda x: [stack_vocab[token] for token in str(x).split()]\n",
        "label_pipeline = lambda x: [int(i) for i in x]"
      ]
    },
    {
      "cell_type": "code",
      "execution_count": null,
      "metadata": {
        "id": "cL1TZVthvIT2"
      },
      "outputs": [],
      "source": [
        "'''\n",
        "We know that input to the embedding layers are indices of words from the vocab.\n",
        "The collate_batch() accepts batch of data and gets the indices of text from vocab and returns the same\n",
        "We will include this collate_batch() in collat_fn attribute of DataLoader.\n",
        "So it will create a batch of data containing indices of words and corresponding labels.\n",
        "But for EmbeddingBag we need one more extra parameter, that is offset.\n",
        "offsets determines the starting index position of each bag (sequence) in input.\n",
        "'''\n",
        "def collate_batch(batch):\n",
        "    label_list, text_list, offsets = [], [], [0]\n",
        "    for (_text, _label) in batch:\n",
        "         label_list.append(label_pipeline(_label))\n",
        "         processed_text = torch.tensor(text_pipeline(_text), dtype=torch.int64)\n",
        "         text_list.append(processed_text)\n",
        "         offsets.append(processed_text.size(0))\n",
        "    label_list = torch.tensor(label_list, dtype=torch.int64)\n",
        "    offsets = torch.tensor(offsets[:-1]).cumsum(dim=0)\n",
        "    text_list = torch.cat(text_list)\n",
        "    return text_list, label_list, offsets"
      ]
    },
    {
      "cell_type": "markdown",
      "metadata": {
        "id": "ZB8Kd5wCCuSN"
      },
      "source": [
        "## <font color = 'blue'> **Check Data Loader**\n",
        "\n"
      ]
    },
    {
      "cell_type": "code",
      "execution_count": null,
      "metadata": {
        "id": "qZ8DLatvCuSN",
        "colab": {
          "base_uri": "https://localhost:8080/"
        },
        "outputId": "389c177d-e7e8-4a0d-ed8b-a9349991a61b"
      },
      "outputs": [
        {
          "output_type": "stream",
          "name": "stderr",
          "text": [
            "/usr/local/lib/python3.7/dist-packages/torch/utils/data/dataloader.py:566: UserWarning: This DataLoader will create 4 worker processes in total. Our suggested max number of worker in current system is 2, which is smaller than what this DataLoader is going to create. Please be aware that excessive worker creation might get DataLoader running slow or even freeze, lower the worker number to avoid potential slowness/freeze if necessary.\n",
            "  cpuset_checked))\n"
          ]
        }
      ],
      "source": [
        "batch_size=2\n",
        "check_loader= torch.utils.data.DataLoader(dataset=trainset,\n",
        "                                        batch_size=batch_size,\n",
        "                                        shuffle=True,\n",
        "                                        collate_fn=collate_batch,\n",
        "                                        num_workers=4)"
      ]
    },
    {
      "cell_type": "code",
      "execution_count": null,
      "metadata": {
        "colab": {
          "base_uri": "https://localhost:8080/"
        },
        "id": "hc49Kv46HMqJ",
        "outputId": "d0205fdc-1cbb-4e3a-8b81-d8464829f76f"
      },
      "outputs": [
        {
          "output_type": "stream",
          "name": "stdout",
          "text": [
            "tensor([[1, 0, 0, 0, 0, 0, 0, 0, 0, 1],\n",
            "        [0, 1, 0, 0, 1, 0, 0, 0, 0, 0]]) tensor([ 941,  584,   61,  416,   21, 1456,   99,  106,  416, 3364,  643,   89,\n",
            "          18,  643, 2370, 2371,   22,   18, 4420, 2373, 1272, 2374,  494,  494,\n",
            "        4421,  494, 4422,  494, 4423,   22,   18, 4420,  494,  646,  494,  647,\n",
            "         494, 4423,  494,    0,   22,   18, 1612,  494,  646,  494, 4424,  494,\n",
            "           0,  494,    0,   22,   18, 4425,   22,   18, 4420,  494,  646,  494,\n",
            "         647,  494, 4423,  494,    0,   22,   18, 4426,  494,  646,  494,  647,\n",
            "         494,    0,   22,   18, 4420,  494,  646,  494,  647,  494, 4423,   22,\n",
            "          18, 1612,  494,  646,  494,  647,  494, 4427,  494, 4428,   22,   18,\n",
            "        4429,   22,   18, 1612,  494,  646,  494,  647,  494, 4427,  494, 4428,\n",
            "          22,   18, 4429,   22,   18, 1612,  494,  646,  494,  647,  494, 4427,\n",
            "         494, 4428,   22,   18, 4429,   22,   18, 1612,  494,  646,  494,  647,\n",
            "         494, 4427,  494, 4428,   22,   18, 4429,   22,   18, 1612,  494,  646,\n",
            "         494,  647,  494, 4427,  494, 4428,   22,   18, 4429,   22,   18, 4425,\n",
            "          22,   18, 4430,   22,   18, 4425,   22,   18, 4420,  494,  646,  494,\n",
            "         647,  494, 4423,  494,    0, 1560, 2951,  494,    0,   22,   18, 1612,\n",
            "         494,  646,  494, 4424,  494,    0,  494,    0,   22,   18, 4425,   22,\n",
            "          18, 4425,   22,  532, 4420, 4420, 4420,   56,   47, 4431, 4420,   56,\n",
            "          47, 4432,  415, 1073, 4420]) tensor([ 0, 10])\n"
          ]
        }
      ],
      "source": [
        "for text, label, offsets in check_loader:\n",
        "  print(label, text, offsets)\n",
        "  break"
      ]
    },
    {
      "cell_type": "markdown",
      "metadata": {
        "id": "RiByneM3JxnV"
      },
      "source": [
        "# <font color = 'blue'>Weight Matrix of Pretrained Weights"
      ]
    },
    {
      "cell_type": "code",
      "source": [
        "gensim.__version__"
      ],
      "metadata": {
        "colab": {
          "base_uri": "https://localhost:8080/",
          "height": 35
        },
        "id": "wFASGdXgNdt_",
        "outputId": "72dba4f4-6997-4be9-cf72-8d827a962aaa"
      },
      "execution_count": null,
      "outputs": [
        {
          "output_type": "execute_result",
          "data": {
            "text/plain": [
              "'4.2.0'"
            ],
            "application/vnd.google.colaboratory.intrinsic+json": {
              "type": "string"
            }
          },
          "metadata": {},
          "execution_count": 41
        }
      ]
    },
    {
      "cell_type": "code",
      "source": [
        "import gensim.downloader as api\n",
        "word_vectors = api.load(\"glove-wiki-gigaword-100\")"
      ],
      "metadata": {
        "colab": {
          "base_uri": "https://localhost:8080/"
        },
        "id": "5h-EBym_N0Ir",
        "outputId": "9389d723-57d5-4c63-8f92-ff788c419494"
      },
      "execution_count": null,
      "outputs": [
        {
          "output_type": "stream",
          "name": "stdout",
          "text": [
            "[==================================================] 100.0% 128.1/128.1MB downloaded\n"
          ]
        }
      ]
    },
    {
      "cell_type": "code",
      "execution_count": null,
      "metadata": {
        "execution": {
          "iopub.execute_input": "2021-06-30T02:45:58.138129Z",
          "iopub.status.busy": "2021-06-30T02:45:58.138017Z",
          "iopub.status.idle": "2021-06-30T02:45:58.318850Z",
          "shell.execute_reply": "2021-06-30T02:45:58.318429Z",
          "shell.execute_reply.started": "2021-06-30T02:45:58.138114Z"
        },
        "id": "J2XXdgCgWNlU",
        "tags": []
      },
      "outputs": [],
      "source": [
        "#pretrained_vectors = KeyedVectors.load('/content/drive/MyDrive/HW 6 B/model_imdb_cbow.bin')\n",
        "pretrained_vectors = word_vectors"
      ]
    },
    {
      "cell_type": "code",
      "execution_count": null,
      "metadata": {
        "colab": {
          "base_uri": "https://localhost:8080/"
        },
        "execution": {
          "iopub.execute_input": "2021-06-30T02:45:58.319424Z",
          "iopub.status.busy": "2021-06-30T02:45:58.319323Z",
          "iopub.status.idle": "2021-06-30T02:45:58.377964Z",
          "shell.execute_reply": "2021-06-30T02:45:58.377626Z",
          "shell.execute_reply.started": "2021-06-30T02:45:58.319411Z"
        },
        "id": "yjy2vqMzJxnV",
        "outputId": "1813e3bb-591d-4612-d1b5-15dd51dc6e9f",
        "tags": []
      },
      "outputs": [
        {
          "output_type": "execute_result",
          "data": {
            "text/plain": [
              "(100,)"
            ]
          },
          "metadata": {},
          "execution_count": 44
        }
      ],
      "source": [
        "vector = pretrained_vectors.get_vector('office', norm=True)\n",
        "vector.shape"
      ]
    },
    {
      "cell_type": "code",
      "execution_count": null,
      "metadata": {
        "execution": {
          "iopub.execute_input": "2021-06-30T02:45:58.378657Z",
          "iopub.status.busy": "2021-06-30T02:45:58.378555Z",
          "iopub.status.idle": "2021-06-30T02:45:58.380890Z",
          "shell.execute_reply": "2021-06-30T02:45:58.380500Z",
          "shell.execute_reply.started": "2021-06-30T02:45:58.378643Z"
        },
        "id": "2TBk2EJ8JxnV",
        "tags": []
      },
      "outputs": [],
      "source": [
        "# embedding_dim =300\n",
        "# test_weights = np.zeros((2, embedding_dim))\n",
        "\n",
        "embedding_dim =100\n",
        "test_weights = np.zeros((2, embedding_dim))"
      ]
    },
    {
      "cell_type": "code",
      "execution_count": null,
      "metadata": {
        "execution": {
          "iopub.execute_input": "2021-06-30T02:45:58.382477Z",
          "iopub.status.busy": "2021-06-30T02:45:58.382369Z",
          "iopub.status.idle": "2021-06-30T02:45:58.384401Z",
          "shell.execute_reply": "2021-06-30T02:45:58.384126Z",
          "shell.execute_reply.started": "2021-06-30T02:45:58.382463Z"
        },
        "id": "dWubBv7LJxnV",
        "tags": []
      },
      "outputs": [],
      "source": [
        "test_weights[0] = pretrained_vectors.get_vector('office', norm=True)"
      ]
    },
    {
      "cell_type": "code",
      "execution_count": null,
      "metadata": {
        "execution": {
          "iopub.execute_input": "2021-06-30T02:45:58.385063Z",
          "iopub.status.busy": "2021-06-30T02:45:58.384960Z",
          "iopub.status.idle": "2021-06-30T02:45:58.390940Z",
          "shell.execute_reply": "2021-06-30T02:45:58.390590Z",
          "shell.execute_reply.started": "2021-06-30T02:45:58.385050Z"
        },
        "id": "hVf1yJ8FJxnV",
        "tags": []
      },
      "outputs": [],
      "source": [
        "test_weights[1] =  np.random.normal(size=(embedding_dim, ))"
      ]
    },
    {
      "cell_type": "code",
      "execution_count": null,
      "metadata": {
        "collapsed": true,
        "execution": {
          "iopub.execute_input": "2021-06-30T02:45:58.391706Z",
          "iopub.status.busy": "2021-06-30T02:45:58.391571Z",
          "iopub.status.idle": "2021-06-30T02:45:58.397242Z",
          "shell.execute_reply": "2021-06-30T02:45:58.396857Z",
          "shell.execute_reply.started": "2021-06-30T02:45:58.391689Z"
        },
        "id": "HOz6iRnJJxnV",
        "jupyter": {
          "outputs_hidden": true
        },
        "tags": [],
        "colab": {
          "base_uri": "https://localhost:8080/"
        },
        "outputId": "da72c987-523c-43af-da35-c40cba4a1946"
      },
      "outputs": [
        {
          "output_type": "execute_result",
          "data": {
            "text/plain": [
              "array([[-0.01455544, -0.13056442,  0.06381373, -0.00747831,  0.10621653,\n",
              "         0.02454428, -0.08777763,  0.1584893 ,  0.0725054 ,  0.08593655,\n",
              "         0.01865983, -0.11025991,  0.05561126,  0.13550204, -0.03868205,\n",
              "        -0.02299953,  0.10512065,  0.07091681, -0.09158254, -0.07538801,\n",
              "         0.01319987,  0.04951464,  0.00256787, -0.05680533, -0.12988587,\n",
              "        -0.14037128,  0.04161026, -0.08634334, -0.0571718 , -0.03574333,\n",
              "         0.16420542,  0.03900468,  0.0447173 ,  0.10741586, -0.08657654,\n",
              "         0.14740245, -0.10056353,  0.00941039,  0.05244635, -0.03778255,\n",
              "        -0.03911339, -0.10175234,  0.06475005, -0.06024378,  0.05340021,\n",
              "        -0.02505102, -0.06679453, -0.09416356,  0.02800201, -0.07653475,\n",
              "         0.07485498, -0.18018079,  0.06768527,  0.18184651, -0.03278357,\n",
              "        -0.4376871 , -0.06637722,  0.02913998,  0.34244165,  0.08327136,\n",
              "        -0.08592603, -0.03643593, -0.00584571,  0.04131393,  0.03244867,\n",
              "        -0.07346101,  0.08773556,  0.07319625,  0.08952755,  0.10364252,\n",
              "         0.00361379, -0.01646613, -0.082698  , -0.15778442,  0.04019174,\n",
              "        -0.02345015, -0.05008451,  0.07772356, -0.26620325, -0.01336048,\n",
              "         0.06507269,  0.02608553, -0.0052755 ,  0.01806191, -0.16233453,\n",
              "        -0.03942375,  0.07542308,  0.01370538,  0.0129935 , -0.14348358,\n",
              "         0.14243855, -0.0411193 ,  0.07685562,  0.08636614, -0.02973789,\n",
              "         0.05968269,  0.0646957 ,  0.01865807,  0.07548621, -0.00646782],\n",
              "       [ 1.76405235,  0.40015721,  0.97873798,  2.2408932 ,  1.86755799,\n",
              "        -0.97727788,  0.95008842, -0.15135721, -0.10321885,  0.4105985 ,\n",
              "         0.14404357,  1.45427351,  0.76103773,  0.12167502,  0.44386323,\n",
              "         0.33367433,  1.49407907, -0.20515826,  0.3130677 , -0.85409574,\n",
              "        -2.55298982,  0.6536186 ,  0.8644362 , -0.74216502,  2.26975462,\n",
              "        -1.45436567,  0.04575852, -0.18718385,  1.53277921,  1.46935877,\n",
              "         0.15494743,  0.37816252, -0.88778575, -1.98079647, -0.34791215,\n",
              "         0.15634897,  1.23029068,  1.20237985, -0.38732682, -0.30230275,\n",
              "        -1.04855297, -1.42001794, -1.70627019,  1.9507754 , -0.50965218,\n",
              "        -0.4380743 , -1.25279536,  0.77749036, -1.61389785, -0.21274028,\n",
              "        -0.89546656,  0.3869025 , -0.51080514, -1.18063218, -0.02818223,\n",
              "         0.42833187,  0.06651722,  0.3024719 , -0.63432209, -0.36274117,\n",
              "        -0.67246045, -0.35955316, -0.81314628, -1.7262826 ,  0.17742614,\n",
              "        -0.40178094, -1.63019835,  0.46278226, -0.90729836,  0.0519454 ,\n",
              "         0.72909056,  0.12898291,  1.13940068, -1.23482582,  0.40234164,\n",
              "        -0.68481009, -0.87079715, -0.57884966, -0.31155253,  0.05616534,\n",
              "        -1.16514984,  0.90082649,  0.46566244, -1.53624369,  1.48825219,\n",
              "         1.89588918,  1.17877957, -0.17992484, -1.07075262,  1.05445173,\n",
              "        -0.40317695,  1.22244507,  0.20827498,  0.97663904,  0.3563664 ,\n",
              "         0.70657317,  0.01050002,  1.78587049,  0.12691209,  0.40198936]])"
            ]
          },
          "metadata": {},
          "execution_count": 48
        }
      ],
      "source": [
        "test_weights"
      ]
    },
    {
      "cell_type": "code",
      "execution_count": null,
      "metadata": {
        "colab": {
          "base_uri": "https://localhost:8080/"
        },
        "execution": {
          "iopub.execute_input": "2021-06-30T02:45:58.397963Z",
          "iopub.status.busy": "2021-06-30T02:45:58.397843Z",
          "iopub.status.idle": "2021-06-30T02:45:58.400627Z",
          "shell.execute_reply": "2021-06-30T02:45:58.400360Z",
          "shell.execute_reply.started": "2021-06-30T02:45:58.397947Z"
        },
        "id": "4dcaTAuwJxnW",
        "outputId": "bc974f89-8f08-421f-a70c-836af0c6ae94",
        "tags": []
      },
      "outputs": [
        {
          "output_type": "execute_result",
          "data": {
            "text/plain": [
              "14834"
            ]
          },
          "metadata": {},
          "execution_count": 49
        }
      ],
      "source": [
        "len(stack_vocab)"
      ]
    },
    {
      "cell_type": "code",
      "execution_count": null,
      "metadata": {
        "execution": {
          "iopub.execute_input": "2021-06-30T02:45:58.401175Z",
          "iopub.status.busy": "2021-06-30T02:45:58.401077Z",
          "iopub.status.idle": "2021-06-30T02:46:00.061074Z",
          "shell.execute_reply": "2021-06-30T02:46:00.060592Z",
          "shell.execute_reply.started": "2021-06-30T02:45:58.401162Z"
        },
        "id": "3TzSA-ysJxnW",
        "tags": []
      },
      "outputs": [],
      "source": [
        "#embedding_dim = 300\n",
        "embedding_dim = 100\n",
        "pretrained_weights = np.zeros((len(stack_vocab), embedding_dim))\n",
        "words_found = 0\n",
        "words_not_found = 0\n",
        "\n",
        "for i, word in enumerate(stack_vocab.get_itos()):\n",
        "    try: \n",
        "        pretrained_weights[i] = pretrained_vectors.get_vector(word, norm=True)\n",
        "        words_found += 1\n",
        "    except KeyError:\n",
        "        words_not_found  += 1\n",
        "        pretrained_weights[i] = np.random.normal(size=(embedding_dim, ))"
      ]
    },
    {
      "cell_type": "code",
      "execution_count": null,
      "metadata": {
        "colab": {
          "base_uri": "https://localhost:8080/"
        },
        "execution": {
          "iopub.execute_input": "2021-06-30T02:46:00.061675Z",
          "iopub.status.busy": "2021-06-30T02:46:00.061553Z",
          "iopub.status.idle": "2021-06-30T02:46:00.064335Z",
          "shell.execute_reply": "2021-06-30T02:46:00.063980Z",
          "shell.execute_reply.started": "2021-06-30T02:46:00.061661Z"
        },
        "id": "hh1c365fJxnW",
        "outputId": "f828b9ca-3a34-40bf-f100-81e2aba3d539",
        "tags": []
      },
      "outputs": [
        {
          "output_type": "execute_result",
          "data": {
            "text/plain": [
              "4196"
            ]
          },
          "metadata": {},
          "execution_count": 51
        }
      ],
      "source": [
        "words_found"
      ]
    },
    {
      "cell_type": "code",
      "execution_count": null,
      "metadata": {
        "colab": {
          "base_uri": "https://localhost:8080/"
        },
        "execution": {
          "iopub.execute_input": "2021-06-30T02:46:00.064986Z",
          "iopub.status.busy": "2021-06-30T02:46:00.064886Z",
          "iopub.status.idle": "2021-06-30T02:46:00.069909Z",
          "shell.execute_reply": "2021-06-30T02:46:00.069607Z",
          "shell.execute_reply.started": "2021-06-30T02:46:00.064973Z"
        },
        "id": "OIFAKUVIWNlV",
        "outputId": "54b592c4-583a-4c68-c795-216f81b21707",
        "tags": []
      },
      "outputs": [
        {
          "output_type": "execute_result",
          "data": {
            "text/plain": [
              "10638"
            ]
          },
          "metadata": {},
          "execution_count": 52
        }
      ],
      "source": [
        "words_not_found"
      ]
    },
    {
      "cell_type": "markdown",
      "metadata": {
        "id": "5PIh63mSCuSN"
      },
      "source": [
        "# <font color = 'blue'> **Model for ANN**\n"
      ]
    },
    {
      "cell_type": "code",
      "source": [
        "class MLPCustom(nn.Module):\n",
        "  def __init__(self, embed_dim, vocab_size, h_sizes_list, d_prob_list, output_dim, non_linearity, batch_norm, task, pretrained_weights):\n",
        "\n",
        "    super().__init__()\n",
        "\n",
        "    self.output_dim = output_dim\n",
        "    self.vocab_size = vocab_size\n",
        "    self.embed_dim = embed_dim\n",
        "    self.h_sizes_list = h_sizes_list\n",
        "    self.d_prob_list = d_prob_list\n",
        "    self.batch_norm = batch_norm\n",
        "    self.task = task\n",
        "    self.pretrained_weights= pretrained_weights\n",
        "    \n",
        "    self.non_linearity = non_linearity\n",
        "\n",
        "    model_layers = []\n",
        "\n",
        "    # embedding_layer\n",
        "    if self.task == 2:\n",
        "       self.embedding = nn.EmbeddingBag(vocab_size, self.embed_dim)\n",
        "\n",
        "    # Task 5\n",
        "    if self.task == 5:\n",
        "       self.embedding = nn.EmbeddingBag(vocab_size, self.embed_dim).from_pretrained(pretrained_weights,\n",
        "                                                                               freeze = True)\n",
        "       \n",
        "    # Task 6\n",
        "    if self.task == 6:\n",
        "       self.embedding = nn.EmbeddingBag(vocab_size, self.embed_dim).from_pretrained(pretrained_weights,\n",
        "                                                                               freeze = False)\n",
        "\n",
        "    input_dim = self.embed_dim\n",
        "    # hidden layers, droput, non_linearity, batchnorm layers\n",
        "    for k, hidden_size in enumerate(self.h_sizes_list):\n",
        "      # hidden_layer\n",
        "      model_layers.append(nn.Linear(input_dim, hidden_size))\n",
        "      # Activation function\n",
        "      model_layers.append(self.non_linearity)\n",
        "      # Dropout Layer\n",
        "      model_layers.append(nn.Dropout(p=self.d_prob_list[k]))\n",
        "      # Batch_Norm Layer\n",
        "      if self.batch_norm:\n",
        "        model_layers.append(nn.BatchNorm1d(hidden_size, momentum = 0.9))\n",
        "      input_dim = hidden_size\n",
        "\n",
        "    # output layer  \n",
        "    if len(self.h_sizes_list)>0:\n",
        "        model_layers.append(nn.Linear(self.h_sizes_list[-1], self.output_dim))\n",
        "    else:\n",
        "        model_layers.append(nn.Linear(self.embed_dim, self.output_dim))\n",
        "\n",
        "    self.module_list = nn.ModuleList(model_layers)\n",
        "    \n",
        "\n",
        "  def forward(self, x, offsets):\n",
        "    out = self.embedding(x, offsets) # batchsize, embedding_dim\n",
        "    for layer in self.module_list:\n",
        "      out = layer(out)\n",
        "    return out\n",
        "\n",
        "    # Note : We do not need to apply softmax as we will be using nn.CrossEntropy Loss"
      ],
      "metadata": {
        "id": "J8GoOj6KZjOX"
      },
      "execution_count": null,
      "outputs": []
    },
    {
      "cell_type": "markdown",
      "metadata": {
        "id": "aqI_o6qwy6lb"
      },
      "source": [
        "## <Font color = 'pickle'>**Function for Training  Loops**\n",
        "\n",
        "**Model Training** involves five steps: \n",
        "\n",
        "- Step 0: Randomly initialize parameters / weights\n",
        "- Step 1: Compute model's predictions - forward pass\n",
        "- Step 2: Compute loss\n",
        "- Step 3: Compute the gradients\n",
        "- Step 4: Update the parameters\n",
        "- Step 5: Repeat steps 1 - 4\n",
        "\n",
        "Model training is repeating this process over and over, for many **epochs**.\n",
        "\n",
        "We will specify number of ***epochs*** and during each epoch we will iterate over the complete dataset and will keep on updating the parameters.\n",
        "\n",
        "***Learning rate*** and ***epochs*** are known as hyperparameters. We have to adjust the values of these two based on validation dataset.\n",
        "\n",
        "We will now create functions for step 1 to 4."
      ]
    },
    {
      "cell_type": "code",
      "execution_count": null,
      "metadata": {
        "execution": {
          "iopub.execute_input": "2022-10-24T09:53:29.864165Z",
          "iopub.status.busy": "2022-10-24T09:53:29.864000Z",
          "iopub.status.idle": "2022-10-24T09:53:29.893835Z",
          "shell.execute_reply": "2022-10-24T09:53:29.893176Z",
          "shell.execute_reply.started": "2022-10-24T09:53:29.864153Z"
        },
        "tags": [],
        "id": "L9fNAtwqbHE6"
      },
      "outputs": [],
      "source": [
        "def train(train_loader, loss_function, model, optimizer, grad_clipping, max_norm, log_batch, log_interval):\n",
        "\n",
        "  # Training Loop \n",
        "\n",
        "  # initilalize variables as global\n",
        "  # these counts will be updated every epoch\n",
        "  global batch_ct_train\n",
        "\n",
        "  # Initialize train_loss at the he start of the epoch\n",
        "  running_train_loss = 0\n",
        "  running_train_correct = 0\n",
        "  \n",
        "  # put the model in training mode\n",
        "\n",
        "  model.train()\n",
        "  # Iterate on batches from the dataset using train_loader\n",
        "  for input_, targets, offsets in train_loader:\n",
        "    \n",
        "    # move inputs and outputs to GPUs\n",
        "    input_ = input_.to(device)\n",
        "    targets = targets.to(device)\n",
        "    offsets = offsets.to(device)\n",
        "\n",
        "\n",
        "    # Step 1: Forward Pass: Compute model's predictions \n",
        "    output = model(input_, offsets)\n",
        "    \n",
        "    # Step 2: Compute loss\n",
        "    loss = loss_function(output, targets.float())\n",
        "\n",
        "    # Correct prediction\n",
        "    y_pred = torch.argmax(output, dim = 1)\n",
        "    #correct = torch.sum(y_pred == targets)\n",
        "\n",
        "    batch_ct_train += 1\n",
        "\n",
        "    # Step 3: Backward pass -Compute the gradients\n",
        "    optimizer.zero_grad()\n",
        "    loss.backward()\n",
        "\n",
        "    # Gradient Clipping\n",
        "    if grad_clipping:\n",
        "      nn.utils.clip_grad_norm_(model.parameters(), max_norm=max_norm, norm_type=2)\n",
        "\n",
        "    # Step 4: Update the parameters\n",
        "    optimizer.step()\n",
        "          \n",
        "    # Add train loss of a batch \n",
        "    running_train_loss += loss.item()\n",
        "\n",
        "    # Add Corect counts of a batch\n",
        "    #running_train_correct += correct\n",
        "\n",
        "    # log batch loss and accuracy\n",
        "    if log_batch:\n",
        "      if ((batch_ct_train + 1) % log_interval) == 0:\n",
        "        wandb.log({f\"Train Batch Loss  :\": loss})\n",
        "        #wandb.log({f\"Train Batch Acc :\": correct/len(targets)})\n",
        "\n",
        "  \n",
        "  # Calculate mean train loss for the whole dataset for a particular epoch\n",
        "  train_loss = running_train_loss/len(train_loader)\n",
        "\n",
        "  # Calculate accuracy for the whole dataset for a particular epoch\n",
        "  #train_acc = running_train_correct/len(train_loader.dataset)\n",
        "  \n",
        "\n",
        "  return train_loss\n",
        "  #, train_acc"
      ]
    },
    {
      "cell_type": "markdown",
      "metadata": {
        "id": "KeLm-GI5bW2V"
      },
      "source": [
        "## <Font color = 'pickle'>**Function for Validation Loops**\n"
      ]
    },
    {
      "cell_type": "code",
      "execution_count": null,
      "metadata": {
        "execution": {
          "iopub.execute_input": "2022-10-24T10:10:52.543093Z",
          "iopub.status.busy": "2022-10-24T10:10:52.542892Z",
          "iopub.status.idle": "2022-10-24T10:10:52.568808Z",
          "shell.execute_reply": "2022-10-24T10:10:52.568348Z",
          "shell.execute_reply.started": "2022-10-24T10:10:52.543080Z"
        },
        "tags": [],
        "id": "mjBYhfpTbHE6"
      },
      "outputs": [],
      "source": [
        "def validate(valid_loader, loss_function, model, log_batch, log_interval):\n",
        "\n",
        "  # initilalize variables as global\n",
        "  # these counts will be updated every epoch\n",
        "  global batch_ct_valid\n",
        "\n",
        "  # Validation/Test loop\n",
        "  # Initialize valid_loss at the he strat of the epoch\n",
        "  running_val_loss = 0\n",
        "  running_val_correct = 0\n",
        "\n",
        "  # put the model in evaluation mode\n",
        "  model.eval()\n",
        "\n",
        "  with torch.no_grad():\n",
        "    for input_, targets, offsets in valid_loader:\n",
        "\n",
        "      # move inputs and outputs to GPUs\n",
        "      input_ = input_.to(device)\n",
        "      targets = targets.to(device)\n",
        "      offsets = offsets.to(device)\n",
        "\n",
        "      # Step 1: Forward Pass: Compute model's predictions \n",
        "      output = model(input_, offsets)\n",
        "\n",
        "      # Step 2: Compute loss\n",
        "      loss = loss_function(output, targets.float())\n",
        "\n",
        "      # Correct Predictions\n",
        "      y_pred = torch.argmax(output, dim = 1)\n",
        "      #correct = torch.sum(y_pred == targets)\n",
        "\n",
        "      batch_ct_valid += 1\n",
        "\n",
        "      # Add val loss of a batch \n",
        "      running_val_loss += loss.item()\n",
        "\n",
        "      # Add correct count for each batch\n",
        "      #running_val_correct += correct\n",
        "\n",
        "      # log batch loss and accuracy\n",
        "      if log_batch:\n",
        "        if ((batch_ct_valid + 1) % log_interval) == 0:\n",
        "          wandb.log({f\"Valid Batch Loss  :\": loss})\n",
        "          #wandb.log({f\"Valid Batch Accuracy :\": correct/len(targets)})\n",
        "\n",
        "    # Calculate mean val loss for the whole dataset for a particular epoch\n",
        "    val_loss = running_val_loss/len(valid_loader)\n",
        "\n",
        "    # Calculate accuracy for the whole dataset for a particular epoch\n",
        "    #val_acc = running_val_correct/len(valid_loader.dataset)\n",
        "\n",
        "    # scheduler step\n",
        "    scheduler.step(val_loss)\n",
        "    # scheduler.step()\n",
        "    \n",
        "  return val_loss\n",
        "  #, val_acc"
      ]
    },
    {
      "cell_type": "markdown",
      "metadata": {
        "id": "Os41TZylbHE6"
      },
      "source": [
        "## <Font color = 'pickle'>**Function for Model Training**\n",
        "    \n",
        "We will now create a function for step 5 of model training\n"
      ]
    },
    {
      "cell_type": "code",
      "execution_count": null,
      "metadata": {
        "execution": {
          "iopub.execute_input": "2022-10-24T10:10:55.067141Z",
          "iopub.status.busy": "2022-10-24T10:10:55.066963Z",
          "iopub.status.idle": "2022-10-24T10:10:55.098680Z",
          "shell.execute_reply": "2022-10-24T10:10:55.098149Z",
          "shell.execute_reply.started": "2022-10-24T10:10:55.067127Z"
        },
        "tags": [],
        "id": "mlrbWAM7bHE6"
      },
      "outputs": [],
      "source": [
        "def train_loop(train_loader, valid_loader, model, optimizer, loss_function, epochs, device, patience, early_stopping,\n",
        "               file_model, save_best_model):\n",
        "    \n",
        "  \"\"\" \n",
        "  Function for training the model and plotting the graph for train & validation loss vs epoch.\n",
        "  Input: iterator for train dataset, initial weights and bias, epochs, learning rate, batch size.\n",
        "  Output: final weights, bias and train loss and validation loss for each epoch.\n",
        "  \"\"\"\n",
        "\n",
        "  # Create lists to store train and val loss at each epoch\n",
        "  train_loss_history = []\n",
        "  valid_loss_history = []\n",
        "  train_acc_history = []\n",
        "  valid_acc_history = []\n",
        "\n",
        "  # initialize variables for early stopping\n",
        "\n",
        "  delta = 0\n",
        "  best_score = None\n",
        "  valid_loss_min = np.Inf\n",
        "  counter_early_stop=0\n",
        "  early_stop=False\n",
        "\n",
        "  # Iterate for the given number of epochs\n",
        "  # Step 5: Repeat steps 1 - 4\n",
        "\n",
        "  for epoch in range(epochs):\n",
        "\n",
        "    t0 = datetime.now()\n",
        "\n",
        "    # Get train loss and accuracy for one epoch\n",
        "    train_loss = train(train_loader, loss_function, model, optimizer, \n",
        "                                  wandb.config.GRAD_CLIPPING, wandb.config.MAX_NORM,\n",
        "                                  wandb.config.LOG_BATCH, wandb.config.LOG_INTERVAL)\n",
        "    valid_loss = validate(valid_loader, loss_function, model, \n",
        "                                       wandb.config.LOG_BATCH, wandb.config.LOG_INTERVAL)\n",
        "\n",
        "    dt = datetime.now() - t0\n",
        "\n",
        "    # Save history of the Losses and accuracy\n",
        "    train_loss_history.append(train_loss)\n",
        "    #train_acc_history.append(train_acc)\n",
        "\n",
        "    valid_loss_history.append(valid_loss)\n",
        "    #valid_acc_history.append(valid_acc)\n",
        "\n",
        "    # Log the train and valid loss to wandb\n",
        "    wandb.log({f\"Train Loss :\": train_loss, \"epoch\": epoch})\n",
        "   # wandb.log({f\"Train Acc :\": train_acc, \"epoch\": epoch})\n",
        "\n",
        "    wandb.log({f\"Valid Loss :\": valid_loss, \"epoch\": epoch})\n",
        "    #wandb.log({f\"Valid Acc :\": valid_acc, \"epoch\": epoch})\n",
        "\n",
        "    if early_stopping:\n",
        "      score = -valid_loss\n",
        "      if best_score is None:\n",
        "        best_score=score\n",
        "        print(f'Validation loss has decreased ({valid_loss_min:.6f} --> {valid_loss:.6f}). Saving Model...')\n",
        "        torch.save(model.state_dict(), file_model)\n",
        "        valid_loss_min = valid_loss\n",
        "\n",
        "      elif score < best_score + delta:\n",
        "        counter_early_stop += 1\n",
        "        print(f'Early stoping counter: {counter_early_stop} out of {patience}')\n",
        "        if counter_early_stop > patience:\n",
        "          early_stop = True\n",
        "\n",
        "\n",
        "      else:\n",
        "        best_score = score\n",
        "        print(f'Validation loss has decreased ({valid_loss_min:.6f} --> {valid_loss:.6f}). Saving model...')\n",
        "        torch.save(model.state_dict(), file_model)\n",
        "        counter_early_stop=0\n",
        "        valid_loss_min = valid_loss\n",
        "\n",
        "      if early_stop:\n",
        "        print('Early Stopping')\n",
        "        break\n",
        "\n",
        "    elif save_best_model:\n",
        "\n",
        "      score = -valid_loss\n",
        "      if best_score is None:\n",
        "        best_score=score\n",
        "        print(f'Validation loss has decreased ({valid_loss_min:.6f} --> {valid_loss:.6f}). Saving Model...')\n",
        "        torch.save(model.state_dict(), file_model)\n",
        "        valid_loss_min = valid_loss\n",
        "\n",
        "      elif score < best_score + delta:\n",
        "        print(f'Validation loss has not decreased ({valid_loss_min:.6f} --> {valid_loss:.6f}). Not Saving Model...')\n",
        "      \n",
        "      else:\n",
        "        best_score = score\n",
        "        print(f'Validation loss has decreased ({valid_loss_min:.6f} --> {valid_loss:.6f}). Saving model...')\n",
        "        torch.save(model.state_dict(), file_model)\n",
        "        valid_loss_min = valid_loss\n",
        "        \n",
        "    else:\n",
        "        torch.save(model.state_dict(), file_model)\n",
        "    \n",
        "    # Print the train loss and accuracy for given number of epochs, batch size and number of samples\n",
        "    print(f'Epoch : {epoch+1} / {epochs}')\n",
        "    print(f'Time to complete {epoch+1} is {dt}')\n",
        "    print(f'Learning rate: {scheduler._last_lr[0]}')\n",
        "    print(f'Train Loss: {train_loss : .4f} %')\n",
        "    print(f'Valid Loss: {valid_loss : .4f} %')\n",
        "    print()\n",
        "    torch.cuda.empty_cache()\n",
        "\n",
        "  return train_loss_history, valid_loss_history"
      ]
    },
    {
      "cell_type": "markdown",
      "metadata": {
        "id": "5ET6YsTebHE6"
      },
      "source": [
        "## <Font color = 'pickle'>**Function for Accuracy and Predictions**\n",
        "\n",
        "Now we have final values for weights and bias after training the model. We will use these values to make predictions on the test dataset."
      ]
    },
    {
      "cell_type": "code",
      "execution_count": null,
      "metadata": {
        "execution": {
          "iopub.execute_input": "2022-10-24T10:10:55.389964Z",
          "iopub.status.busy": "2022-10-24T10:10:55.389758Z",
          "iopub.status.idle": "2022-10-24T10:10:55.418810Z",
          "shell.execute_reply": "2022-10-24T10:10:55.418102Z",
          "shell.execute_reply.started": "2022-10-24T10:10:55.389950Z"
        },
        "tags": [],
        "id": "dV3Mbr3TbHE7"
      },
      "outputs": [],
      "source": [
        "def get_acc_pred(data_loader, model, device):\n",
        "    \n",
        "  \"\"\" \n",
        "  Function to get predictions and accuracy for a given data using estimated model\n",
        "  Input: Data iterator, Final estimated weoights, bias\n",
        "  Output: Prections and Accuracy for given dataset\n",
        "  \"\"\"\n",
        "\n",
        "  # Array to store predicted labels\n",
        "  predictions = torch.Tensor() # empty tensor\n",
        "  predictions = predictions.to(device) # move predictions to GPU\n",
        "\n",
        "  # Array to store actual labels\n",
        "  y = torch.Tensor() # empty tensor\n",
        "  y = y.to(device)\n",
        "\n",
        "  # put the model in evaluation mode\n",
        "  model.eval()\n",
        "  \n",
        "  # Iterate over batches from data iterator\n",
        "  with torch.no_grad():\n",
        "    for input_, targets, offsets in data_loader:\n",
        "      \n",
        "      # move inputs and outputs to GPUs\n",
        "      \n",
        "      input_ = input_.to(device)\n",
        "      targets = targets.to(device)\n",
        "      offsets = offsets.to(device)\n",
        "      \n",
        "      # Calculated the predicted labels\n",
        "      output = model(input_, offsets)\n",
        "\n",
        "      # Choose the label \n",
        "      predicted_y = output.clone()\n",
        "  \n",
        "      # Update teh output \n",
        "      predicted_y[predicted_y>0.5] = 1\n",
        "      predicted_y[predicted_y<=0.5] =0\n",
        "\n",
        "      # Add the predicted labels to the array\n",
        "      predictions = torch.cat((predictions, predicted_y)) \n",
        "\n",
        "      # Add the actual labels to the array\n",
        "      y = torch.cat((y, targets)) \n",
        "\n",
        "  # Return tuple containing predictions and accuracy\n",
        "  return predictions, y  "
      ]
    },
    {
      "cell_type": "markdown",
      "metadata": {
        "id": "5nF5iTy_VqdV"
      },
      "source": [
        "# <Font color = 'pickle'>**Meta Data**"
      ]
    },
    {
      "cell_type": "code",
      "execution_count": null,
      "metadata": {
        "execution": {
          "iopub.execute_input": "2022-10-24T10:10:55.752082Z",
          "iopub.status.busy": "2022-10-24T10:10:55.751573Z",
          "iopub.status.idle": "2022-10-24T10:10:55.777422Z",
          "shell.execute_reply": "2022-10-24T10:10:55.776854Z",
          "shell.execute_reply.started": "2022-10-24T10:10:55.752066Z"
        },
        "id": "TAuG3mxBWHaz",
        "tags": []
      },
      "outputs": [],
      "source": [
        "hyperparameters = SimpleNamespace(\n",
        "    EMBED_DIM = 100, # CHANGED FROM 300 TO 100\n",
        "    VOCAB_SIZE = len(stack_vocab),\n",
        "    OUTPUT_DIM = 10,\n",
        "    HIDDEN_SIZES_LIST = [200], # 100 layers of size 200  [200]*100\n",
        "    DPROB_LIST = [0],\n",
        "    NON_LINEARITY= nn.SELU(),\n",
        "    PRETRAINED_WEIGHTS_TENSOR = torch.tensor(pretrained_weights).float(),\n",
        "    BATCH_NORM = True,\n",
        "    EPOCHS = 30,\n",
        "    TASK = 6,    \n",
        "    BATCH_SIZE = 256,\n",
        "    LEARNING_RATE = 0.1,\n",
        "    DATASET=\"IMDB\",\n",
        "    ARCHITECTUREe=\"nn_with_pre_trained_embeddings\",\n",
        "    LOG_INTERVAL = 25,\n",
        "    LOG_BATCH = True,\n",
        "    FILE_MODEL = '/content/drive/MyDrive/HW 6 B/hw6_part_B_task_5.pt',\n",
        "    GRAD_CLIPPING = False,\n",
        "    MAX_NORM = 0,\n",
        "    MOMENTUM = 0,\n",
        "    PATIENCE = 5,\n",
        "    EARLY_STOPPING = True,\n",
        "    SCHEDULER_FACTOR = 0,\n",
        "    SCHEDULER_PATIENCE = 0,\n",
        "    WEIGHT_DECAY = 0.002,\n",
        "    SAVE_BEST_MODEL = False,\n",
        "    DEVICE = torch.device('cuda:0' if torch.cuda.is_available() else 'cpu')\n",
        "    )"
      ]
    },
    {
      "cell_type": "markdown",
      "metadata": {
        "id": "oVk_RctgdPRP"
      },
      "source": [
        "# <Font color = 'pickle'>**Data Loaders, Loss Function, Optimizer**"
      ]
    },
    {
      "cell_type": "code",
      "execution_count": null,
      "metadata": {
        "colab": {
          "base_uri": "https://localhost:8080/",
          "height": 108
        },
        "execution": {
          "iopub.execute_input": "2022-10-24T10:10:56.268730Z",
          "iopub.status.busy": "2022-10-24T10:10:56.268433Z",
          "iopub.status.idle": "2022-10-24T10:11:01.517607Z",
          "shell.execute_reply": "2022-10-24T10:11:01.517178Z",
          "shell.execute_reply.started": "2022-10-24T10:10:56.268709Z"
        },
        "id": "3kCRNDlu-zbE",
        "outputId": "54a045a9-27e3-4f63-f82c-22ec60bd8979",
        "tags": []
      },
      "outputs": [
        {
          "output_type": "stream",
          "name": "stderr",
          "text": [
            "\u001b[34m\u001b[1mwandb\u001b[0m: Currently logged in as: \u001b[33mteamnine\u001b[0m. Use \u001b[1m`wandb login --relogin`\u001b[0m to force relogin\n"
          ]
        },
        {
          "output_type": "display_data",
          "data": {
            "text/plain": [
              "<IPython.core.display.HTML object>"
            ],
            "text/html": [
              "Tracking run with wandb version 0.13.5"
            ]
          },
          "metadata": {}
        },
        {
          "output_type": "display_data",
          "data": {
            "text/plain": [
              "<IPython.core.display.HTML object>"
            ],
            "text/html": [
              "Run data is saved locally in <code>/content/wandb/run-20221128_021354-1jdekil9</code>"
            ]
          },
          "metadata": {}
        },
        {
          "output_type": "display_data",
          "data": {
            "text/plain": [
              "<IPython.core.display.HTML object>"
            ],
            "text/html": [
              "Syncing run <strong><a href=\"https://wandb.ai/teamnine/NLP_imdb_pre_train_embed/runs/1jdekil9\" target=\"_blank\">task2</a></strong> to <a href=\"https://wandb.ai/teamnine/NLP_imdb_pre_train_embed\" target=\"_blank\">Weights & Biases</a> (<a href=\"https://wandb.me/run\" target=\"_blank\">docs</a>)<br/>"
            ]
          },
          "metadata": {}
        },
        {
          "output_type": "execute_result",
          "data": {
            "text/html": [
              "<button onClick=\"this.nextSibling.style.display='block';this.style.display='none';\">Display W&B run</button><iframe src=\"https://wandb.ai/teamnine/NLP_imdb_pre_train_embed/runs/1jdekil9?jupyter=true\" style=\"border:none;width:100%;height:420px;display:none;\"></iframe>"
            ],
            "text/plain": [
              "<wandb.sdk.wandb_run.Run at 0x7f2d1a20cd10>"
            ]
          },
          "metadata": {},
          "execution_count": 59
        }
      ],
      "source": [
        "# Initialize a new project\n",
        "import random\n",
        "wandb.init(name = 'task2', project = 'NLP_imdb_pre_train_embed', config = hyperparameters)"
      ]
    },
    {
      "cell_type": "code",
      "execution_count": null,
      "metadata": {
        "colab": {
          "base_uri": "https://localhost:8080/"
        },
        "execution": {
          "iopub.execute_input": "2022-10-24T10:11:01.518431Z",
          "iopub.status.busy": "2022-10-24T10:11:01.518292Z",
          "iopub.status.idle": "2022-10-24T10:11:01.543960Z",
          "shell.execute_reply": "2022-10-24T10:11:01.543555Z",
          "shell.execute_reply.started": "2022-10-24T10:11:01.518418Z"
        },
        "id": "Gnl8vsAN-5Tq",
        "outputId": "726f3ffe-794c-4ba1-9f0f-faf26f659707",
        "tags": []
      },
      "outputs": [
        {
          "output_type": "execute_result",
          "data": {
            "text/plain": [
              "namespace(ARCHITECTUREe='nn_with_pre_trained_embeddings', BATCH_NORM=True, BATCH_SIZE=256, DATASET='IMDB', DEVICE=device(type='cuda', index=0), DPROB_LIST=[0], EARLY_STOPPING=True, EMBED_DIM=100, EPOCHS=30, FILE_MODEL='/content/drive/MyDrive/HW 6 B/hw6_part_B_task_5.pt', GRAD_CLIPPING=False, HIDDEN_SIZES_LIST=[200], LEARNING_RATE=0.1, LOG_BATCH=True, LOG_INTERVAL=25, MAX_NORM=0, MOMENTUM=0, NON_LINEARITY=SELU(), OUTPUT_DIM=10, PATIENCE=5, PRETRAINED_WEIGHTS_TENSOR=tensor([[ 1.8832, -1.3478, -1.2705,  ...,  0.8235,  2.1632,  1.3365],\n",
              "        [-0.3692, -0.2394,  1.0997,  ...,  0.5830, -0.3994,  0.3701],\n",
              "        [-0.0430, -0.0854, -0.0288,  ..., -0.0470,  0.1472,  0.0645],\n",
              "        ...,\n",
              "        [ 1.4744, -1.3274, -0.2250,  ..., -0.4070, -1.3672, -0.5155],\n",
              "        [-1.1898, -0.8310,  0.4049,  ..., -0.7881, -0.1413,  0.4693],\n",
              "        [ 0.0723,  0.0390,  0.0493,  ..., -0.0819, -0.1261, -0.0316]]), SAVE_BEST_MODEL=False, SCHEDULER_FACTOR=0, SCHEDULER_PATIENCE=0, TASK=6, VOCAB_SIZE=14834, WEIGHT_DECAY=0.002)"
            ]
          },
          "metadata": {},
          "execution_count": 60
        }
      ],
      "source": [
        "wandb.config = hyperparameters\n",
        "wandb.config"
      ]
    },
    {
      "cell_type": "code",
      "execution_count": null,
      "metadata": {
        "execution": {
          "iopub.execute_input": "2022-10-24T10:11:01.544753Z",
          "iopub.status.busy": "2022-10-24T10:11:01.544508Z",
          "iopub.status.idle": "2022-10-24T10:11:01.655272Z",
          "shell.execute_reply": "2022-10-24T10:11:01.654814Z",
          "shell.execute_reply.started": "2022-10-24T10:11:01.544740Z"
        },
        "id": "fZ6ZoM9WaS_M",
        "tags": []
      },
      "outputs": [],
      "source": [
        "# Fix seed value\n",
        "SEED = 2345\n",
        "random.seed(SEED)\n",
        "np.random.seed(SEED)\n",
        "torch.manual_seed(SEED)\n",
        "torch.cuda.manual_seed(SEED)\n",
        "torch.backends.cudnn.deterministic = True\n",
        "\n",
        "# Data Loader\n",
        "train_loader = torch.utils.data.DataLoader(trainset, batch_size=wandb.config.BATCH_SIZE, shuffle = True, \n",
        "                                           collate_fn=collate_batch, num_workers = 4)\n",
        "valid_loader = torch.utils.data.DataLoader(validset, batch_size=wandb.config.BATCH_SIZE, shuffle = False, \n",
        "                                           collate_fn=collate_batch,  num_workers = 4)\n",
        "test_loader = torch.utils.data.DataLoader(testset, batch_size=wandb.config.BATCH_SIZE,   shuffle = False, \n",
        "                                          collate_fn=collate_batch,  num_workers = 4)\n",
        "\n",
        "# cross entropy loss function\n",
        "loss_function = nn.BCEWithLogitsLoss()\n",
        "\n",
        "# model \n",
        "model_stack = MLPCustom(wandb.config.EMBED_DIM, \n",
        "                       wandb.config.VOCAB_SIZE, \n",
        "                       wandb.config.HIDDEN_SIZES_LIST, \n",
        "                       wandb.config.DPROB_LIST,\n",
        "                       wandb.config.OUTPUT_DIM, \n",
        "                       wandb.config.NON_LINEARITY,\n",
        "                       wandb.config.BATCH_NORM,\n",
        "                       wandb.config.TASK,\n",
        "                       wandb.config.PRETRAINED_WEIGHTS_TENSOR)\n",
        "\n",
        "model_stack.to(wandb.config.DEVICE)\n",
        "\n",
        "def init_weights(m):\n",
        "  if type(m) == nn.Linear:\n",
        "      torch.nn.init.kaiming_normal_(m.weight)\n",
        "      torch.nn.init.zeros_(m.bias)\n",
        "        \n",
        "# apply initialization recursively  to all modules\n",
        "# model_imdb.apply(init_weights)\n",
        "\n",
        "# Intialize stochiastic gradient descent optimizer\n",
        "optimizer = torch.optim.SGD(model_stack.parameters(), \n",
        "                             lr = wandb.config.LEARNING_RATE, \n",
        "                             weight_decay=wandb.config.WEIGHT_DECAY)\n",
        "\n",
        "# wandb.config.OPTIMIZER = optimizer\n",
        "\n",
        "scheduler = ReduceLROnPlateau(optimizer, mode='min', factor= wandb.config.SCHEDULER_FACTOR, \n",
        "                              patience=wandb.config.SCHEDULER_PATIENCE, verbose=True)\n",
        "\n",
        "#scheduler = StepLR(optimizer, gamma=0.4,step_size=1, verbose=True)"
      ]
    },
    {
      "cell_type": "code",
      "execution_count": null,
      "metadata": {
        "colab": {
          "base_uri": "https://localhost:8080/"
        },
        "execution": {
          "iopub.execute_input": "2022-10-24T10:11:01.656283Z",
          "iopub.status.busy": "2022-10-24T10:11:01.656152Z",
          "iopub.status.idle": "2022-10-24T10:11:01.683125Z",
          "shell.execute_reply": "2022-10-24T10:11:01.682778Z",
          "shell.execute_reply.started": "2022-10-24T10:11:01.656271Z"
        },
        "id": "6etbfbQkm-zv",
        "outputId": "c3c2268f-e4d6-4070-e984-e9a421ddd01c",
        "tags": []
      },
      "outputs": [
        {
          "output_type": "execute_result",
          "data": {
            "text/plain": [
              "namespace(ARCHITECTUREe='nn_with_pre_trained_embeddings', BATCH_NORM=True, BATCH_SIZE=256, DATASET='IMDB', DEVICE=device(type='cuda', index=0), DPROB_LIST=[0], EARLY_STOPPING=True, EMBED_DIM=100, EPOCHS=30, FILE_MODEL='/content/drive/MyDrive/HW 6 B/hw6_part_B_task_5.pt', GRAD_CLIPPING=False, HIDDEN_SIZES_LIST=[200], LEARNING_RATE=0.1, LOG_BATCH=True, LOG_INTERVAL=25, MAX_NORM=0, MOMENTUM=0, NON_LINEARITY=SELU(), OUTPUT_DIM=10, PATIENCE=5, PRETRAINED_WEIGHTS_TENSOR=tensor([[ 1.8832, -1.3478, -1.2705,  ...,  0.8235,  2.1632,  1.3365],\n",
              "        [-0.3692, -0.2394,  1.0997,  ...,  0.5830, -0.3994,  0.3701],\n",
              "        [-0.0430, -0.0854, -0.0288,  ..., -0.0470,  0.1472,  0.0645],\n",
              "        ...,\n",
              "        [ 1.4744, -1.3274, -0.2250,  ..., -0.4070, -1.3672, -0.5155],\n",
              "        [-1.1898, -0.8310,  0.4049,  ..., -0.7881, -0.1413,  0.4693],\n",
              "        [ 0.0723,  0.0390,  0.0493,  ..., -0.0819, -0.1261, -0.0316]]), SAVE_BEST_MODEL=False, SCHEDULER_FACTOR=0, SCHEDULER_PATIENCE=0, TASK=6, VOCAB_SIZE=14834, WEIGHT_DECAY=0.002)"
            ]
          },
          "metadata": {},
          "execution_count": 62
        }
      ],
      "source": [
        "wandb.config"
      ]
    },
    {
      "cell_type": "code",
      "execution_count": null,
      "metadata": {
        "execution": {
          "iopub.execute_input": "2022-10-24T10:11:01.683806Z",
          "iopub.status.busy": "2022-10-24T10:11:01.683633Z",
          "iopub.status.idle": "2022-10-24T10:11:01.920580Z",
          "shell.execute_reply": "2022-10-24T10:11:01.920065Z",
          "shell.execute_reply.started": "2022-10-24T10:11:01.683793Z"
        },
        "id": "p2Gx7jgbumux",
        "tags": []
      },
      "outputs": [],
      "source": [
        "device = torch.device('cuda:0' if torch.cuda.is_available() else 'cpu')"
      ]
    },
    {
      "cell_type": "markdown",
      "metadata": {
        "id": "e0_zWk0Ib74K"
      },
      "source": [
        "# <Font color = 'pickle'>**Training Model**"
      ]
    },
    {
      "cell_type": "code",
      "execution_count": null,
      "metadata": {
        "colab": {
          "base_uri": "https://localhost:8080/"
        },
        "execution": {
          "iopub.execute_input": "2022-10-24T10:11:01.921385Z",
          "iopub.status.busy": "2022-10-24T10:11:01.921236Z",
          "iopub.status.idle": "2022-10-24T10:11:01.957938Z",
          "shell.execute_reply": "2022-10-24T10:11:01.957574Z",
          "shell.execute_reply.started": "2022-10-24T10:11:01.921369Z"
        },
        "id": "KczRQvKwiH_y",
        "outputId": "a4329549-b2b1-4139-9cd9-b661fd9b5b93",
        "tags": []
      },
      "outputs": [
        {
          "output_type": "stream",
          "name": "stderr",
          "text": [
            "\u001b[34m\u001b[1mwandb\u001b[0m: logging graph, to disable use `wandb.watch(log_graph=False)`\n"
          ]
        },
        {
          "output_type": "execute_result",
          "data": {
            "text/plain": [
              "[<wandb.wandb_torch.TorchGraph at 0x7f2d1a23ea50>]"
            ]
          },
          "metadata": {},
          "execution_count": 64
        }
      ],
      "source": [
        "wandb.watch(model_stack, log = 'all', log_freq=25, log_graph=True)"
      ]
    },
    {
      "cell_type": "code",
      "execution_count": null,
      "metadata": {
        "execution": {
          "iopub.execute_input": "2022-10-24T10:11:01.958733Z",
          "iopub.status.busy": "2022-10-24T10:11:01.958548Z",
          "iopub.status.idle": "2022-10-24T10:12:09.085757Z",
          "shell.execute_reply": "2022-10-24T10:12:09.085279Z",
          "shell.execute_reply.started": "2022-10-24T10:11:01.958718Z"
        },
        "id": "LckLb_9bhZDw",
        "tags": [],
        "outputId": "bc09b9ce-3678-4bd4-ca43-01f5c5b3bbcd",
        "colab": {
          "base_uri": "https://localhost:8080/"
        }
      },
      "outputs": [
        {
          "output_type": "stream",
          "name": "stdout",
          "text": [
            "Validation loss has decreased (inf --> 0.678027). Saving Model...\n",
            "Epoch : 1 / 30\n",
            "Time to complete 1 is 0:00:04.065911\n",
            "Learning rate: 0.1\n",
            "Train Loss:  0.7081 %\n",
            "Valid Loss:  0.6780 %\n",
            "\n",
            "Validation loss has decreased (0.678027 --> 0.661214). Saving model...\n",
            "Epoch : 2 / 30\n",
            "Time to complete 2 is 0:00:01.487604\n",
            "Learning rate: 0.1\n",
            "Train Loss:  0.6779 %\n",
            "Valid Loss:  0.6612 %\n",
            "\n",
            "Validation loss has decreased (0.661214 --> 0.642783). Saving model...\n",
            "Epoch : 3 / 30\n",
            "Time to complete 3 is 0:00:01.547232\n",
            "Learning rate: 0.1\n",
            "Train Loss:  0.6541 %\n",
            "Valid Loss:  0.6428 %\n",
            "\n",
            "Validation loss has decreased (0.642783 --> 0.618518). Saving model...\n",
            "Epoch : 4 / 30\n",
            "Time to complete 4 is 0:00:01.575871\n",
            "Learning rate: 0.1\n",
            "Train Loss:  0.6329 %\n",
            "Valid Loss:  0.6185 %\n",
            "\n",
            "Validation loss has decreased (0.618518 --> 0.604254). Saving model...\n",
            "Epoch : 5 / 30\n",
            "Time to complete 5 is 0:00:01.537205\n",
            "Learning rate: 0.1\n",
            "Train Loss:  0.6129 %\n",
            "Valid Loss:  0.6043 %\n",
            "\n",
            "Validation loss has decreased (0.604254 --> 0.592164). Saving model...\n",
            "Epoch : 6 / 30\n",
            "Time to complete 6 is 0:00:01.537312\n",
            "Learning rate: 0.1\n",
            "Train Loss:  0.5939 %\n",
            "Valid Loss:  0.5922 %\n",
            "\n",
            "Validation loss has decreased (0.592164 --> 0.563695). Saving model...\n",
            "Epoch : 7 / 30\n",
            "Time to complete 7 is 0:00:01.535813\n",
            "Learning rate: 0.1\n",
            "Train Loss:  0.5761 %\n",
            "Valid Loss:  0.5637 %\n",
            "\n",
            "Validation loss has decreased (0.563695 --> 0.554004). Saving model...\n",
            "Epoch : 8 / 30\n",
            "Time to complete 8 is 0:00:01.514173\n",
            "Learning rate: 0.1\n",
            "Train Loss:  0.5590 %\n",
            "Valid Loss:  0.5540 %\n",
            "\n",
            "Validation loss has decreased (0.554004 --> 0.537815). Saving model...\n",
            "Epoch : 9 / 30\n",
            "Time to complete 9 is 0:00:01.459164\n",
            "Learning rate: 0.1\n",
            "Train Loss:  0.5426 %\n",
            "Valid Loss:  0.5378 %\n",
            "\n",
            "Validation loss has decreased (0.537815 --> 0.523876). Saving model...\n",
            "Epoch : 10 / 30\n",
            "Time to complete 10 is 0:00:01.893235\n",
            "Learning rate: 0.1\n",
            "Train Loss:  0.5269 %\n",
            "Valid Loss:  0.5239 %\n",
            "\n",
            "Validation loss has decreased (0.523876 --> 0.507893). Saving model...\n",
            "Epoch : 11 / 30\n",
            "Time to complete 11 is 0:00:02.201119\n",
            "Learning rate: 0.1\n",
            "Train Loss:  0.5121 %\n",
            "Valid Loss:  0.5079 %\n",
            "\n",
            "Validation loss has decreased (0.507893 --> 0.501281). Saving model...\n",
            "Epoch : 12 / 30\n",
            "Time to complete 12 is 0:00:01.537498\n",
            "Learning rate: 0.1\n",
            "Train Loss:  0.4982 %\n",
            "Valid Loss:  0.5013 %\n",
            "\n",
            "Validation loss has decreased (0.501281 --> 0.489391). Saving model...\n",
            "Epoch : 13 / 30\n",
            "Time to complete 13 is 0:00:01.473918\n",
            "Learning rate: 0.1\n",
            "Train Loss:  0.4854 %\n",
            "Valid Loss:  0.4894 %\n",
            "\n",
            "Validation loss has decreased (0.489391 --> 0.474483). Saving model...\n",
            "Epoch : 14 / 30\n",
            "Time to complete 14 is 0:00:01.545769\n",
            "Learning rate: 0.1\n",
            "Train Loss:  0.4737 %\n",
            "Valid Loss:  0.4745 %\n",
            "\n",
            "Validation loss has decreased (0.474483 --> 0.466663). Saving model...\n",
            "Epoch : 15 / 30\n",
            "Time to complete 15 is 0:00:01.537139\n",
            "Learning rate: 0.1\n",
            "Train Loss:  0.4631 %\n",
            "Valid Loss:  0.4667 %\n",
            "\n",
            "Validation loss has decreased (0.466663 --> 0.459907). Saving model...\n",
            "Epoch : 16 / 30\n",
            "Time to complete 16 is 0:00:01.530195\n",
            "Learning rate: 0.1\n",
            "Train Loss:  0.4536 %\n",
            "Valid Loss:  0.4599 %\n",
            "\n",
            "Validation loss has decreased (0.459907 --> 0.453009). Saving model...\n",
            "Epoch : 17 / 30\n",
            "Time to complete 17 is 0:00:01.527160\n",
            "Learning rate: 0.1\n",
            "Train Loss:  0.4452 %\n",
            "Valid Loss:  0.4530 %\n",
            "\n",
            "Validation loss has decreased (0.453009 --> 0.442318). Saving model...\n",
            "Epoch : 18 / 30\n",
            "Time to complete 18 is 0:00:01.498744\n",
            "Learning rate: 0.1\n",
            "Train Loss:  0.4384 %\n",
            "Valid Loss:  0.4423 %\n",
            "\n",
            "Validation loss has decreased (0.442318 --> 0.436444). Saving model...\n",
            "Epoch : 19 / 30\n",
            "Time to complete 19 is 0:00:01.574636\n",
            "Learning rate: 0.1\n",
            "Train Loss:  0.4321 %\n",
            "Valid Loss:  0.4364 %\n",
            "\n",
            "Epoch 00020: reducing learning rate of group 0 to 0.0000e+00.\n",
            "Early stoping counter: 1 out of 5\n",
            "Epoch : 20 / 30\n",
            "Time to complete 20 is 0:00:01.547157\n",
            "Learning rate: 0.0\n",
            "Train Loss:  0.4267 %\n",
            "Valid Loss:  0.4374 %\n",
            "\n",
            "Validation loss has decreased (0.436444 --> 0.433886). Saving model...\n",
            "Epoch : 21 / 30\n",
            "Time to complete 21 is 0:00:01.486629\n",
            "Learning rate: 0.0\n",
            "Train Loss:  0.4235 %\n",
            "Valid Loss:  0.4339 %\n",
            "\n",
            "Early stoping counter: 1 out of 5\n",
            "Epoch : 22 / 30\n",
            "Time to complete 22 is 0:00:01.515406\n",
            "Learning rate: 0.0\n",
            "Train Loss:  0.4235 %\n",
            "Valid Loss:  0.4366 %\n",
            "\n",
            "Early stoping counter: 2 out of 5\n",
            "Epoch : 23 / 30\n",
            "Time to complete 23 is 0:00:01.495731\n",
            "Learning rate: 0.0\n",
            "Train Loss:  0.4235 %\n",
            "Valid Loss:  0.4351 %\n",
            "\n",
            "Early stoping counter: 3 out of 5\n",
            "Epoch : 24 / 30\n",
            "Time to complete 24 is 0:00:01.506724\n",
            "Learning rate: 0.0\n",
            "Train Loss:  0.4238 %\n",
            "Valid Loss:  0.4346 %\n",
            "\n",
            "Early stoping counter: 4 out of 5\n",
            "Epoch : 25 / 30\n",
            "Time to complete 25 is 0:00:01.519799\n",
            "Learning rate: 0.0\n",
            "Train Loss:  0.4237 %\n",
            "Valid Loss:  0.4345 %\n",
            "\n",
            "Early stoping counter: 5 out of 5\n",
            "Epoch : 26 / 30\n",
            "Time to complete 26 is 0:00:01.537706\n",
            "Learning rate: 0.0\n",
            "Train Loss:  0.4235 %\n",
            "Valid Loss:  0.4350 %\n",
            "\n",
            "Early stoping counter: 6 out of 5\n",
            "Early Stopping\n"
          ]
        }
      ],
      "source": [
        "# See live graphs in the notebook.\n",
        "#%%wandb \n",
        "batch_ct_train, batch_ct_valid = 0, 0\n",
        "train_loss_history, valid_loss_history = train_loop(train_loader, \n",
        "                                                                                          valid_loader, \n",
        "                                                                                          model_stack, \n",
        "                                                                                          optimizer,\n",
        "                                                                                          loss_function, \n",
        "                                                                                          wandb.config.EPOCHS, \n",
        "                                                                                          wandb.config.DEVICE,\n",
        "                                                                                          wandb.config.PATIENCE, \n",
        "                                                                                          wandb.config.EARLY_STOPPING,\n",
        "                                                                                          wandb.config.FILE_MODEL,\n",
        "                                                                                          wandb.config.SAVE_BEST_MODEL)"
      ]
    },
    {
      "cell_type": "markdown",
      "metadata": {
        "id": "c-Cj1f2Qb74K"
      },
      "source": [
        "# <Font color = 'pickle'>**Get Accuracy, Predictions**"
      ]
    },
    {
      "cell_type": "code",
      "execution_count": null,
      "metadata": {
        "execution": {
          "iopub.execute_input": "2022-10-24T10:12:09.086719Z",
          "iopub.status.busy": "2022-10-24T10:12:09.086506Z",
          "iopub.status.idle": "2022-10-24T10:12:09.119252Z",
          "shell.execute_reply": "2022-10-24T10:12:09.118859Z",
          "shell.execute_reply.started": "2022-10-24T10:12:09.086701Z"
        },
        "id": "dZQF1CbgKEKd",
        "tags": [],
        "colab": {
          "base_uri": "https://localhost:8080/"
        },
        "outputId": "05294784-ef3d-46d9-d978-1b2b9b2ab629"
      },
      "outputs": [
        {
          "output_type": "execute_result",
          "data": {
            "text/plain": [
              "device(type='cuda', index=0)"
            ]
          },
          "metadata": {},
          "execution_count": 66
        }
      ],
      "source": [
        "device"
      ]
    },
    {
      "cell_type": "code",
      "execution_count": null,
      "metadata": {
        "colab": {
          "base_uri": "https://localhost:8080/"
        },
        "execution": {
          "iopub.execute_input": "2022-10-24T10:12:09.120013Z",
          "iopub.status.busy": "2022-10-24T10:12:09.119827Z",
          "iopub.status.idle": "2022-10-24T10:12:09.259339Z",
          "shell.execute_reply": "2022-10-24T10:12:09.258892Z",
          "shell.execute_reply.started": "2022-10-24T10:12:09.119999Z"
        },
        "id": "yw7GhoZuRdIO",
        "outputId": "3ebac20d-5a4d-4bec-929c-097ca07c26d9",
        "tags": []
      },
      "outputs": [
        {
          "output_type": "execute_result",
          "data": {
            "text/plain": [
              "<All keys matched successfully>"
            ]
          },
          "metadata": {},
          "execution_count": 67
        }
      ],
      "source": [
        "model_nn = MLPCustom(wandb.config.EMBED_DIM, \n",
        "                       wandb.config.VOCAB_SIZE, \n",
        "                       wandb.config.HIDDEN_SIZES_LIST, \n",
        "                       wandb.config.DPROB_LIST,\n",
        "                       wandb.config.OUTPUT_DIM, \n",
        "                       wandb.config.NON_LINEARITY,\n",
        "                       wandb.config.BATCH_NORM,\n",
        "                       wandb.config.TASK,\n",
        "                       wandb.config.PRETRAINED_WEIGHTS_TENSOR)\n",
        "model_nn.to(device)\n",
        "model_nn.load_state_dict(torch.load(wandb.config.FILE_MODEL))"
      ]
    },
    {
      "cell_type": "code",
      "execution_count": null,
      "metadata": {
        "execution": {
          "iopub.execute_input": "2022-10-24T10:12:09.260788Z",
          "iopub.status.busy": "2022-10-24T10:12:09.260622Z",
          "iopub.status.idle": "2022-10-24T10:12:10.954206Z",
          "shell.execute_reply": "2022-10-24T10:12:10.953655Z",
          "shell.execute_reply.started": "2022-10-24T10:12:09.260776Z"
        },
        "tags": [],
        "id": "NoVxQEcibHE8"
      },
      "outputs": [],
      "source": [
        "# Get the prediction and labels\n",
        "train_pred,  train_label = get_acc_pred(train_loader, model_nn,device)\n",
        "valid_pred, valid_label = get_acc_pred(valid_loader, model_nn,device)\n",
        "test_pred,  test_label  = get_acc_pred(test_loader, model_nn,device)"
      ]
    },
    {
      "cell_type": "code",
      "source": [
        "pip install torchmetrics"
      ],
      "metadata": {
        "colab": {
          "base_uri": "https://localhost:8080/"
        },
        "id": "aNloxFiNZkTd",
        "outputId": "06eba600-2e11-4fcb-cae8-78d6a5b53d22"
      },
      "execution_count": null,
      "outputs": [
        {
          "output_type": "stream",
          "name": "stdout",
          "text": [
            "Looking in indexes: https://pypi.org/simple, https://us-python.pkg.dev/colab-wheels/public/simple/\n",
            "Collecting torchmetrics\n",
            "  Downloading torchmetrics-0.10.3-py3-none-any.whl (529 kB)\n",
            "\u001b[K     |████████████████████████████████| 529 kB 7.7 MB/s \n",
            "\u001b[?25hRequirement already satisfied: torch>=1.3.1 in /usr/local/lib/python3.7/dist-packages (from torchmetrics) (1.12.1+cu113)\n",
            "Requirement already satisfied: packaging in /usr/local/lib/python3.7/dist-packages (from torchmetrics) (21.3)\n",
            "Requirement already satisfied: typing-extensions in /usr/local/lib/python3.7/dist-packages (from torchmetrics) (4.1.1)\n",
            "Requirement already satisfied: numpy>=1.17.2 in /usr/local/lib/python3.7/dist-packages (from torchmetrics) (1.21.6)\n",
            "Requirement already satisfied: pyparsing!=3.0.5,>=2.0.2 in /usr/local/lib/python3.7/dist-packages (from packaging->torchmetrics) (3.0.9)\n",
            "Installing collected packages: torchmetrics\n",
            "Successfully installed torchmetrics-0.10.3\n"
          ]
        }
      ]
    },
    {
      "cell_type": "code",
      "execution_count": null,
      "metadata": {
        "colab": {
          "base_uri": "https://localhost:8080/"
        },
        "execution": {
          "iopub.execute_input": "2022-10-24T10:12:10.954984Z",
          "iopub.status.busy": "2022-10-24T10:12:10.954792Z",
          "iopub.status.idle": "2022-10-24T10:12:10.989733Z",
          "shell.execute_reply": "2022-10-24T10:12:10.989257Z",
          "shell.execute_reply.started": "2022-10-24T10:12:10.954948Z"
        },
        "id": "vcfIlMd3FKAX",
        "outputId": "a4f1c6f0-d0f3-4adf-8bcd-b2beaf30c58d",
        "tags": []
      },
      "outputs": [
        {
          "output_type": "execute_result",
          "data": {
            "text/plain": [
              "tensor(0.1183, device='cuda:0')"
            ]
          },
          "metadata": {},
          "execution_count": 70
        }
      ],
      "source": [
        "from torchmetrics import F1Score\n",
        "f1score  = F1Score(num_classes=10, mdmc_average= 'global').to(device)\n",
        "train_f1_score = f1score( train_pred, train_label.long())\n",
        "train_f1_score"
      ]
    },
    {
      "cell_type": "code",
      "source": [
        "# convert these to numpy array\n",
        "y_train, y_predicted_train  = train_label.cpu().numpy(), train_pred.cpu().numpy() \n",
        "y_valid, y_predicted_valid  = valid_label.cpu().numpy(), valid_pred.cpu().numpy() \n",
        "y_test, y_predicted_test  = test_label.cpu().numpy(), test_pred.cpu().numpy() "
      ],
      "metadata": {
        "id": "qBGoYFBnaF_M"
      },
      "execution_count": null,
      "outputs": []
    },
    {
      "cell_type": "code",
      "source": [
        "from sklearn.metrics import f1_score"
      ],
      "metadata": {
        "id": "rv4FMXj9afFl"
      },
      "execution_count": null,
      "outputs": []
    },
    {
      "cell_type": "code",
      "source": [
        "f1_score_train = f1_score(y_train, y_predicted_train, average = 'micro')\n",
        "f1_score_valid = f1_score(y_valid, y_predicted_valid, average = 'micro')\n",
        "f1_score_test = f1_score(y_test, y_predicted_test, average = 'micro')"
      ],
      "metadata": {
        "id": "vHt9Rboeah9z"
      },
      "execution_count": null,
      "outputs": []
    },
    {
      "cell_type": "code",
      "execution_count": null,
      "metadata": {
        "execution": {
          "iopub.execute_input": "2022-10-24T10:12:10.990678Z",
          "iopub.status.busy": "2022-10-24T10:12:10.990462Z",
          "iopub.status.idle": "2022-10-24T10:12:11.023893Z",
          "shell.execute_reply": "2022-10-24T10:12:11.023344Z",
          "shell.execute_reply.started": "2022-10-24T10:12:10.990665Z"
        },
        "id": "ZXfjniBJjX3u",
        "tags": [],
        "colab": {
          "base_uri": "https://localhost:8080/"
        },
        "outputId": "3cfda55f-b761-4183-b11f-5fa5399aaf43"
      },
      "outputs": [
        {
          "output_type": "stream",
          "name": "stdout",
          "text": [
            "f1_score_train 0.11825845940639795\n",
            "f1_score_valid 0.04089581304771178\n",
            "f1_score_test 0.10342574442266404\n"
          ]
        }
      ],
      "source": [
        "# Print Accuracy based on saved Model\n",
        "print('f1_score_train', f1_score_train)\n",
        "print('f1_score_valid', f1_score_valid)\n",
        "print('f1_score_test', f1_score_test)"
      ]
    },
    {
      "cell_type": "code",
      "source": [
        "wandb.log({'Train f1 score': f1_score_train})\n",
        "wandb.log({'Valid f1 score': f1_score_valid}) \n",
        "wandb.log({'Test f1 score': f1_score_test})"
      ],
      "metadata": {
        "id": "inSkiKTWctdL"
      },
      "execution_count": null,
      "outputs": []
    },
    {
      "cell_type": "code",
      "execution_count": null,
      "metadata": {
        "colab": {
          "base_uri": "https://localhost:8080/",
          "height": 608,
          "referenced_widgets": [
            "2a8447173aff4b4c899717e9f799eebd",
            "683a201e14154652a280035cec7538a8",
            "79a2c949e862439cafa39639f350368d",
            "cdf271cfb19b40b380867175b19c6558",
            "26f10898622744c3993f1d850fd6eec9",
            "b610c25fece94e2695a4785f385747ef",
            "1c92003919274a25883ac1bc1881f876",
            "4de6befdd5384f959cd0061c62dc4dc7"
          ]
        },
        "execution": {
          "iopub.execute_input": "2022-10-24T10:12:11.248248Z",
          "iopub.status.busy": "2022-10-24T10:12:11.248088Z",
          "iopub.status.idle": "2022-10-24T10:12:17.031220Z",
          "shell.execute_reply": "2022-10-24T10:12:17.030820Z",
          "shell.execute_reply.started": "2022-10-24T10:12:11.248235Z"
        },
        "id": "jIlsxRdPHZYa",
        "outputId": "f0615be7-6ce1-4ff8-c68d-7ff1bcbbc7b1",
        "tags": []
      },
      "outputs": [
        {
          "output_type": "display_data",
          "data": {
            "text/plain": [
              "<IPython.core.display.HTML object>"
            ],
            "text/html": [
              "Waiting for W&B process to finish... <strong style=\"color:green\">(success).</strong>"
            ]
          },
          "metadata": {}
        },
        {
          "output_type": "display_data",
          "data": {
            "text/plain": [
              "VBox(children=(Label(value='0.002 MB of 0.002 MB uploaded (0.000 MB deduped)\\r'), FloatProgress(value=1.0, max…"
            ],
            "application/vnd.jupyter.widget-view+json": {
              "version_major": 2,
              "version_minor": 0,
              "model_id": "2a8447173aff4b4c899717e9f799eebd"
            }
          },
          "metadata": {}
        },
        {
          "output_type": "display_data",
          "data": {
            "text/plain": [
              "<IPython.core.display.HTML object>"
            ],
            "text/html": [
              "<style>\n",
              "    table.wandb td:nth-child(1) { padding: 0 10px; text-align: left ; width: auto;} td:nth-child(2) {text-align: left ; width: 100%}\n",
              "    .wandb-row { display: flex; flex-direction: row; flex-wrap: wrap; justify-content: flex-start; width: 100% }\n",
              "    .wandb-col { display: flex; flex-direction: column; flex-basis: 100%; flex: 1; padding: 10px; }\n",
              "    </style>\n",
              "<div class=\"wandb-row\"><div class=\"wandb-col\"><h3>Run history:</h3><br/><table class=\"wandb\"><tr><td>Test f1 score</td><td>▁</td></tr><tr><td>Train Batch Loss  :</td><td>█▇▆▅▅▄▃▃▂▂▂▁▁▁▁▁</td></tr><tr><td>Train Loss :</td><td>█▇▇▆▆▅▅▄▄▄▃▃▃▂▂▂▂▁▁▁▁▁▁▁▁▁▁</td></tr><tr><td>Train f1 score</td><td>▁</td></tr><tr><td>Valid Batch Loss  :</td><td>█▃▁▂</td></tr><tr><td>Valid Loss :</td><td>██▇▆▆▆▅▄▄▄▃▃▃▂▂▂▂▁▁▁▁▁▁▁▁▁▁</td></tr><tr><td>Valid f1 score</td><td>▁</td></tr><tr><td>epoch</td><td>▁▁▁▂▂▂▂▂▂▃▃▃▃▃▃▄▄▄▄▄▅▅▅▅▅▅▆▆▆▆▆▇▇▇▇▇▇███</td></tr></table><br/></div><div class=\"wandb-col\"><h3>Run summary:</h3><br/><table class=\"wandb\"><tr><td>Test f1 score</td><td>0.10343</td></tr><tr><td>Train Batch Loss  :</td><td>0.42068</td></tr><tr><td>Train Loss :</td><td>0.42337</td></tr><tr><td>Train f1 score</td><td>0.11826</td></tr><tr><td>Valid Batch Loss  :</td><td>0.4444</td></tr><tr><td>Valid Loss :</td><td>0.43554</td></tr><tr><td>Valid f1 score</td><td>0.0409</td></tr><tr><td>epoch</td><td>26</td></tr></table><br/></div></div>"
            ]
          },
          "metadata": {}
        },
        {
          "output_type": "display_data",
          "data": {
            "text/plain": [
              "<IPython.core.display.HTML object>"
            ],
            "text/html": [
              "Synced <strong style=\"color:#cdcd00\">task2</strong>: <a href=\"https://wandb.ai/teamnine/NLP_imdb_pre_train_embed/runs/1jdekil9\" target=\"_blank\">https://wandb.ai/teamnine/NLP_imdb_pre_train_embed/runs/1jdekil9</a><br/>Synced 5 W&B file(s), 1 media file(s), 0 artifact file(s) and 0 other file(s)"
            ]
          },
          "metadata": {}
        },
        {
          "output_type": "display_data",
          "data": {
            "text/plain": [
              "<IPython.core.display.HTML object>"
            ],
            "text/html": [
              "Find logs at: <code>./wandb/run-20221128_021354-1jdekil9/logs</code>"
            ]
          },
          "metadata": {}
        }
      ],
      "source": [
        "wandb.finish() "
      ]
    },
    {
      "cell_type": "code",
      "source": [],
      "metadata": {
        "id": "Ws977ngmc8Dq"
      },
      "execution_count": null,
      "outputs": []
    }
  ],
  "metadata": {
    "accelerator": "GPU",
    "colab": {
      "machine_shape": "hm",
      "provenance": [],
      "include_colab_link": true
    },
    "kernelspec": {
      "display_name": "Python 3 (ipykernel)",
      "language": "python",
      "name": "python3"
    },
    "language_info": {
      "codemirror_mode": {
        "name": "ipython",
        "version": 3
      },
      "file_extension": ".py",
      "mimetype": "text/x-python",
      "name": "python",
      "nbconvert_exporter": "python",
      "pygments_lexer": "ipython3",
      "version": "3.8.12"
    },
    "widgets": {
      "application/vnd.jupyter.widget-state+json": {
        "2a8447173aff4b4c899717e9f799eebd": {
          "model_module": "@jupyter-widgets/controls",
          "model_name": "VBoxModel",
          "model_module_version": "1.5.0",
          "state": {
            "_dom_classes": [],
            "_model_module": "@jupyter-widgets/controls",
            "_model_module_version": "1.5.0",
            "_model_name": "VBoxModel",
            "_view_count": null,
            "_view_module": "@jupyter-widgets/controls",
            "_view_module_version": "1.5.0",
            "_view_name": "VBoxView",
            "box_style": "",
            "children": [
              "IPY_MODEL_683a201e14154652a280035cec7538a8",
              "IPY_MODEL_79a2c949e862439cafa39639f350368d"
            ],
            "layout": "IPY_MODEL_cdf271cfb19b40b380867175b19c6558"
          }
        },
        "683a201e14154652a280035cec7538a8": {
          "model_module": "@jupyter-widgets/controls",
          "model_name": "LabelModel",
          "model_module_version": "1.5.0",
          "state": {
            "_dom_classes": [],
            "_model_module": "@jupyter-widgets/controls",
            "_model_module_version": "1.5.0",
            "_model_name": "LabelModel",
            "_view_count": null,
            "_view_module": "@jupyter-widgets/controls",
            "_view_module_version": "1.5.0",
            "_view_name": "LabelView",
            "description": "",
            "description_tooltip": null,
            "layout": "IPY_MODEL_26f10898622744c3993f1d850fd6eec9",
            "placeholder": "​",
            "style": "IPY_MODEL_b610c25fece94e2695a4785f385747ef",
            "value": "0.017 MB of 0.042 MB uploaded (0.000 MB deduped)\r"
          }
        },
        "79a2c949e862439cafa39639f350368d": {
          "model_module": "@jupyter-widgets/controls",
          "model_name": "FloatProgressModel",
          "model_module_version": "1.5.0",
          "state": {
            "_dom_classes": [],
            "_model_module": "@jupyter-widgets/controls",
            "_model_module_version": "1.5.0",
            "_model_name": "FloatProgressModel",
            "_view_count": null,
            "_view_module": "@jupyter-widgets/controls",
            "_view_module_version": "1.5.0",
            "_view_name": "ProgressView",
            "bar_style": "",
            "description": "",
            "description_tooltip": null,
            "layout": "IPY_MODEL_1c92003919274a25883ac1bc1881f876",
            "max": 1,
            "min": 0,
            "orientation": "horizontal",
            "style": "IPY_MODEL_4de6befdd5384f959cd0061c62dc4dc7",
            "value": 0.3985781137508999
          }
        },
        "cdf271cfb19b40b380867175b19c6558": {
          "model_module": "@jupyter-widgets/base",
          "model_name": "LayoutModel",
          "model_module_version": "1.2.0",
          "state": {
            "_model_module": "@jupyter-widgets/base",
            "_model_module_version": "1.2.0",
            "_model_name": "LayoutModel",
            "_view_count": null,
            "_view_module": "@jupyter-widgets/base",
            "_view_module_version": "1.2.0",
            "_view_name": "LayoutView",
            "align_content": null,
            "align_items": null,
            "align_self": null,
            "border": null,
            "bottom": null,
            "display": null,
            "flex": null,
            "flex_flow": null,
            "grid_area": null,
            "grid_auto_columns": null,
            "grid_auto_flow": null,
            "grid_auto_rows": null,
            "grid_column": null,
            "grid_gap": null,
            "grid_row": null,
            "grid_template_areas": null,
            "grid_template_columns": null,
            "grid_template_rows": null,
            "height": null,
            "justify_content": null,
            "justify_items": null,
            "left": null,
            "margin": null,
            "max_height": null,
            "max_width": null,
            "min_height": null,
            "min_width": null,
            "object_fit": null,
            "object_position": null,
            "order": null,
            "overflow": null,
            "overflow_x": null,
            "overflow_y": null,
            "padding": null,
            "right": null,
            "top": null,
            "visibility": null,
            "width": null
          }
        },
        "26f10898622744c3993f1d850fd6eec9": {
          "model_module": "@jupyter-widgets/base",
          "model_name": "LayoutModel",
          "model_module_version": "1.2.0",
          "state": {
            "_model_module": "@jupyter-widgets/base",
            "_model_module_version": "1.2.0",
            "_model_name": "LayoutModel",
            "_view_count": null,
            "_view_module": "@jupyter-widgets/base",
            "_view_module_version": "1.2.0",
            "_view_name": "LayoutView",
            "align_content": null,
            "align_items": null,
            "align_self": null,
            "border": null,
            "bottom": null,
            "display": null,
            "flex": null,
            "flex_flow": null,
            "grid_area": null,
            "grid_auto_columns": null,
            "grid_auto_flow": null,
            "grid_auto_rows": null,
            "grid_column": null,
            "grid_gap": null,
            "grid_row": null,
            "grid_template_areas": null,
            "grid_template_columns": null,
            "grid_template_rows": null,
            "height": null,
            "justify_content": null,
            "justify_items": null,
            "left": null,
            "margin": null,
            "max_height": null,
            "max_width": null,
            "min_height": null,
            "min_width": null,
            "object_fit": null,
            "object_position": null,
            "order": null,
            "overflow": null,
            "overflow_x": null,
            "overflow_y": null,
            "padding": null,
            "right": null,
            "top": null,
            "visibility": null,
            "width": null
          }
        },
        "b610c25fece94e2695a4785f385747ef": {
          "model_module": "@jupyter-widgets/controls",
          "model_name": "DescriptionStyleModel",
          "model_module_version": "1.5.0",
          "state": {
            "_model_module": "@jupyter-widgets/controls",
            "_model_module_version": "1.5.0",
            "_model_name": "DescriptionStyleModel",
            "_view_count": null,
            "_view_module": "@jupyter-widgets/base",
            "_view_module_version": "1.2.0",
            "_view_name": "StyleView",
            "description_width": ""
          }
        },
        "1c92003919274a25883ac1bc1881f876": {
          "model_module": "@jupyter-widgets/base",
          "model_name": "LayoutModel",
          "model_module_version": "1.2.0",
          "state": {
            "_model_module": "@jupyter-widgets/base",
            "_model_module_version": "1.2.0",
            "_model_name": "LayoutModel",
            "_view_count": null,
            "_view_module": "@jupyter-widgets/base",
            "_view_module_version": "1.2.0",
            "_view_name": "LayoutView",
            "align_content": null,
            "align_items": null,
            "align_self": null,
            "border": null,
            "bottom": null,
            "display": null,
            "flex": null,
            "flex_flow": null,
            "grid_area": null,
            "grid_auto_columns": null,
            "grid_auto_flow": null,
            "grid_auto_rows": null,
            "grid_column": null,
            "grid_gap": null,
            "grid_row": null,
            "grid_template_areas": null,
            "grid_template_columns": null,
            "grid_template_rows": null,
            "height": null,
            "justify_content": null,
            "justify_items": null,
            "left": null,
            "margin": null,
            "max_height": null,
            "max_width": null,
            "min_height": null,
            "min_width": null,
            "object_fit": null,
            "object_position": null,
            "order": null,
            "overflow": null,
            "overflow_x": null,
            "overflow_y": null,
            "padding": null,
            "right": null,
            "top": null,
            "visibility": null,
            "width": null
          }
        },
        "4de6befdd5384f959cd0061c62dc4dc7": {
          "model_module": "@jupyter-widgets/controls",
          "model_name": "ProgressStyleModel",
          "model_module_version": "1.5.0",
          "state": {
            "_model_module": "@jupyter-widgets/controls",
            "_model_module_version": "1.5.0",
            "_model_name": "ProgressStyleModel",
            "_view_count": null,
            "_view_module": "@jupyter-widgets/base",
            "_view_module_version": "1.2.0",
            "_view_name": "StyleView",
            "bar_color": null,
            "description_width": ""
          }
        }
      }
    }
  },
  "nbformat": 4,
  "nbformat_minor": 0
}